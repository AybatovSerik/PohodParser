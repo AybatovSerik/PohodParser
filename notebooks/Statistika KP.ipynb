{
 "cells": [
  {
   "cell_type": "code",
   "execution_count": 159,
   "metadata": {},
   "outputs": [],
   "source": [
    "import pandas as pd\n",
    "import numpy as np\n",
    "import matplotlib.pyplot as plt\n",
    "import json\n",
    "import re\n",
    "\n",
    "%matplotlib inline"
   ]
  },
  {
   "cell_type": "markdown",
   "metadata": {},
   "source": [
    "# Статистика по разным источникам "
   ]
  },
  {
   "cell_type": "markdown",
   "metadata": {},
   "source": [
    "## Клуб приключений "
   ]
  },
  {
   "cell_type": "code",
   "execution_count": 84,
   "metadata": {},
   "outputs": [],
   "source": [
    "with open('../data/kp_parsed_routes_20210530_0031.txt','r',encoding='utf-8') as f:\n",
    "    kp_routes = f.readlines()\n",
    "\n",
    "kp_routes_evaled = [x for x in map(lambda x: eval(x), kp_routes)]\n",
    "\n",
    "kp_df = pd.DataFrame(columns = ['url','name','region','distance','duration','level','type','is_children',\n",
    "                       'short_desc_len', 'full_desc_len','num_images','num_guides','num_hikes'\n",
    "                       ])\n",
    "\n",
    "for route in kp_routes_evaled:\n",
    "    kp_df.loc[kp_df.shape[0],:] = [\n",
    "        route['url'], route['name'], route['region'],\n",
    "        route['distance'], route['duration'], route['level'],\n",
    "        route['type'], route['is_children'], len(route['short_description']),\n",
    "        len(route['full_description']), len(route['images']), len(route['guides']), len(route['hikes'])\n",
    "                                  ]"
   ]
  },
  {
   "cell_type": "code",
   "execution_count": 89,
   "metadata": {},
   "outputs": [
    {
     "data": {
      "text/html": [
       "<div>\n",
       "<style scoped>\n",
       "    .dataframe tbody tr th:only-of-type {\n",
       "        vertical-align: middle;\n",
       "    }\n",
       "\n",
       "    .dataframe tbody tr th {\n",
       "        vertical-align: top;\n",
       "    }\n",
       "\n",
       "    .dataframe thead th {\n",
       "        text-align: right;\n",
       "    }\n",
       "</style>\n",
       "<table border=\"1\" class=\"dataframe\">\n",
       "  <thead>\n",
       "    <tr style=\"text-align: right;\">\n",
       "      <th></th>\n",
       "      <th>url</th>\n",
       "      <th>name</th>\n",
       "      <th>region</th>\n",
       "      <th>distance</th>\n",
       "      <th>duration</th>\n",
       "      <th>level</th>\n",
       "      <th>type</th>\n",
       "      <th>is_children</th>\n",
       "      <th>short_desc_len</th>\n",
       "      <th>full_desc_len</th>\n",
       "      <th>num_images</th>\n",
       "      <th>num_guides</th>\n",
       "      <th>num_hikes</th>\n",
       "    </tr>\n",
       "  </thead>\n",
       "  <tbody>\n",
       "    <tr>\n",
       "      <th>0</th>\n",
       "      <td>https://www.vpoxod.ru/route/karelia/shuya#cont...</td>\n",
       "      <td>Сплав по реке Шуя</td>\n",
       "      <td>Регион:Карелия (все походы в этом регионе)</td>\n",
       "      <td>Длина: 110 км (водная часть маршрута)</td>\n",
       "      <td>Длительность: 7 дней (без дороги на поезде или...</td>\n",
       "      <td>Сложность:легкий, опыт не обязателен</td>\n",
       "      <td>[Поход с палатками, Водный, Сплав, На катамара...</td>\n",
       "      <td>Участие с детьми: можно взять с собой детей от...</td>\n",
       "      <td>958</td>\n",
       "      <td>20447</td>\n",
       "      <td>45</td>\n",
       "      <td>5</td>\n",
       "      <td>15</td>\n",
       "    </tr>\n",
       "    <tr>\n",
       "      <th>1</th>\n",
       "      <td>https://www.vpoxod.ru/route/karelia/keret#cont...</td>\n",
       "      <td>Сплав по реке Кереть и Белое море в Карелии</td>\n",
       "      <td>Регион:Карелия (все походы в этом регионе)</td>\n",
       "      <td>Длина: 130 км (водная часть маршрута, из них 7...</td>\n",
       "      <td>Длительность: 9 и 6 дней (без дороги на поезде...</td>\n",
       "      <td>Сложность:легкий, опыт не обязателен</td>\n",
       "      <td>[Поход с палатками, Водный, Сплав, На катамара...</td>\n",
       "      <td>Участие с детьми: можно взять с собой детей от...</td>\n",
       "      <td>1349</td>\n",
       "      <td>24112</td>\n",
       "      <td>56</td>\n",
       "      <td>4</td>\n",
       "      <td>12</td>\n",
       "    </tr>\n",
       "  </tbody>\n",
       "</table>\n",
       "</div>"
      ],
      "text/plain": [
       "                                                 url  \\\n",
       "0  https://www.vpoxod.ru/route/karelia/shuya#cont...   \n",
       "1  https://www.vpoxod.ru/route/karelia/keret#cont...   \n",
       "\n",
       "                                          name  \\\n",
       "0                            Сплав по реке Шуя   \n",
       "1  Сплав по реке Кереть и Белое море в Карелии   \n",
       "\n",
       "                                       region  \\\n",
       "0  Регион:Карелия (все походы в этом регионе)   \n",
       "1  Регион:Карелия (все походы в этом регионе)   \n",
       "\n",
       "                                            distance  \\\n",
       "0             Длина: 110 км (водная часть маршрута)    \n",
       "1  Длина: 130 км (водная часть маршрута, из них 7...   \n",
       "\n",
       "                                            duration  \\\n",
       "0  Длительность: 7 дней (без дороги на поезде или...   \n",
       "1  Длительность: 9 и 6 дней (без дороги на поезде...   \n",
       "\n",
       "                                   level  \\\n",
       "0  Сложность:легкий, опыт не обязателен    \n",
       "1  Сложность:легкий, опыт не обязателен    \n",
       "\n",
       "                                                type  \\\n",
       "0  [Поход с палатками, Водный, Сплав, На катамара...   \n",
       "1  [Поход с палатками, Водный, Сплав, На катамара...   \n",
       "\n",
       "                                         is_children short_desc_len  \\\n",
       "0  Участие с детьми: можно взять с собой детей от...            958   \n",
       "1  Участие с детьми: можно взять с собой детей от...           1349   \n",
       "\n",
       "  full_desc_len num_images num_guides num_hikes  \n",
       "0         20447         45          5        15  \n",
       "1         24112         56          4        12  "
      ]
     },
     "execution_count": 89,
     "metadata": {},
     "output_type": "execute_result"
    }
   ],
   "source": [
    "kp_df.head(2)"
   ]
  },
  {
   "cell_type": "markdown",
   "metadata": {},
   "source": [
    "Насколько уникальны url и названия маршрутов?"
   ]
  },
  {
   "cell_type": "code",
   "execution_count": 90,
   "metadata": {},
   "outputs": [
    {
     "data": {
      "text/plain": [
       "https://www.vpoxod.ru/route/nw/vnimatelnoe-putesestvie-akterskie-treningisup-progulka#content-top    1\n",
       "https://www.vpoxod.ru/route/caucasus/elbrusskiy-kaleydoskop#content-top                              1\n",
       "https://www.vpoxod.ru/route/nw/tishina_mal#content-top                                               1\n",
       "https://www.vpoxod.ru/route/kolskiy/seakayak_kolvica_umba_terski#content-top                         1\n",
       "Name: url, dtype: int64"
      ]
     },
     "execution_count": 90,
     "metadata": {},
     "output_type": "execute_result"
    }
   ],
   "source": [
    "kp_df.url.value_counts()[:4]"
   ]
  },
  {
   "cell_type": "code",
   "execution_count": 91,
   "metadata": {},
   "outputs": [
    {
     "data": {
      "text/plain": [
       "Шашки - Битва в лесу 23 февраля- Подмосковье    2\n",
       "Шавлинские озёра и Чуйский хребет               1\n",
       "Центральный Вьетнам: Сердце малого дракона      1\n",
       "Большое Байкальское лето - комфорт-тур          1\n",
       "Name: name, dtype: int64"
      ]
     },
     "execution_count": 91,
     "metadata": {},
     "output_type": "execute_result"
    }
   ],
   "source": [
    "kp_df.name.value_counts()[:4]"
   ]
  },
  {
   "cell_type": "code",
   "execution_count": 28,
   "metadata": {},
   "outputs": [
    {
     "data": {
      "text/html": [
       "<div>\n",
       "<style scoped>\n",
       "    .dataframe tbody tr th:only-of-type {\n",
       "        vertical-align: middle;\n",
       "    }\n",
       "\n",
       "    .dataframe tbody tr th {\n",
       "        vertical-align: top;\n",
       "    }\n",
       "\n",
       "    .dataframe thead th {\n",
       "        text-align: right;\n",
       "    }\n",
       "</style>\n",
       "<table border=\"1\" class=\"dataframe\">\n",
       "  <thead>\n",
       "    <tr style=\"text-align: right;\">\n",
       "      <th></th>\n",
       "      <th>url</th>\n",
       "      <th>name</th>\n",
       "      <th>region</th>\n",
       "      <th>distance</th>\n",
       "      <th>duration</th>\n",
       "      <th>level</th>\n",
       "      <th>type</th>\n",
       "      <th>is_children</th>\n",
       "      <th>short_desc_len</th>\n",
       "      <th>full_desc_len</th>\n",
       "      <th>num_images</th>\n",
       "      <th>num_guides</th>\n",
       "      <th>num_hikes</th>\n",
       "    </tr>\n",
       "  </thead>\n",
       "  <tbody>\n",
       "    <tr>\n",
       "      <th>707</th>\n",
       "      <td>https://www.vpoxod.ru/route/podmoskovje/Shashk...</td>\n",
       "      <td>Шашки - Битва в лесу 23 февраля- Подмосковье</td>\n",
       "      <td>Регион:Подмосковье (все походы в этом регионе)</td>\n",
       "      <td>Длина: 10 км</td>\n",
       "      <td>Длительность: 1 день или 2 дня</td>\n",
       "      <td>Сложность:легкий, опыт не обязателен</td>\n",
       "      <td>[Пеший, Выходного дня, Мероприятие, Однодневны...</td>\n",
       "      <td>Участие с детьми: можно взять с собой детей от...</td>\n",
       "      <td>390</td>\n",
       "      <td>1507</td>\n",
       "      <td>23</td>\n",
       "      <td>1</td>\n",
       "      <td>0</td>\n",
       "    </tr>\n",
       "    <tr>\n",
       "      <th>1055</th>\n",
       "      <td>https://www.vpoxod.ru/route/podmoskovje/shashk...</td>\n",
       "      <td>Шашки - Битва в лесу 23 февраля- Подмосковье</td>\n",
       "      <td>Регион:Подмосковье (все походы в этом регионе)</td>\n",
       "      <td>Длина: 10 км</td>\n",
       "      <td>Длительность: 1 день или 2 дня</td>\n",
       "      <td>Сложность:легкий, опыт не обязателен</td>\n",
       "      <td>[Пеший, Выходного дня, Мероприятие, Однодневны...</td>\n",
       "      <td>Участие с детьми: можно взять с собой детей от...</td>\n",
       "      <td>390</td>\n",
       "      <td>1507</td>\n",
       "      <td>23</td>\n",
       "      <td>1</td>\n",
       "      <td>0</td>\n",
       "    </tr>\n",
       "  </tbody>\n",
       "</table>\n",
       "</div>"
      ],
      "text/plain": [
       "                                                    url  \\\n",
       "707   https://www.vpoxod.ru/route/podmoskovje/Shashk...   \n",
       "1055  https://www.vpoxod.ru/route/podmoskovje/shashk...   \n",
       "\n",
       "                                              name  \\\n",
       "707   Шашки - Битва в лесу 23 февраля- Подмосковье   \n",
       "1055  Шашки - Битва в лесу 23 февраля- Подмосковье   \n",
       "\n",
       "                                              region       distance  \\\n",
       "707   Регион:Подмосковье (все походы в этом регионе)  Длина: 10 км    \n",
       "1055  Регион:Подмосковье (все походы в этом регионе)  Длина: 10 км    \n",
       "\n",
       "                             duration                                  level  \\\n",
       "707   Длительность: 1 день или 2 дня   Сложность:легкий, опыт не обязателен    \n",
       "1055  Длительность: 1 день или 2 дня   Сложность:легкий, опыт не обязателен    \n",
       "\n",
       "                                                   type  \\\n",
       "707   [Пеший, Выходного дня, Мероприятие, Однодневны...   \n",
       "1055  [Пеший, Выходного дня, Мероприятие, Однодневны...   \n",
       "\n",
       "                                            is_children short_desc_len  \\\n",
       "707   Участие с детьми: можно взять с собой детей от...            390   \n",
       "1055  Участие с детьми: можно взять с собой детей от...            390   \n",
       "\n",
       "     full_desc_len num_images num_guides num_hikes  \n",
       "707           1507         23          1         0  \n",
       "1055          1507         23          1         0  "
      ]
     },
     "execution_count": 28,
     "metadata": {},
     "output_type": "execute_result"
    }
   ],
   "source": [
    "kp_df.query('name==\"Шашки - Битва в лесу 23 февраля- Подмосковье\"')"
   ]
  },
  {
   "cell_type": "markdown",
   "metadata": {},
   "source": [
    "Url уникален, а вот название один раз повторилось, ему верить нельзя. Маршруты абсолютно одинаковы, вероятно просто один раз опечатались в url"
   ]
  },
  {
   "cell_type": "code",
   "execution_count": 92,
   "metadata": {},
   "outputs": [
    {
     "data": {
      "text/plain": [
       "url                 0\n",
       "name                0\n",
       "region              0\n",
       "distance           39\n",
       "duration            5\n",
       "level              27\n",
       "type               13\n",
       "is_children       249\n",
       "short_desc_len      0\n",
       "full_desc_len       0\n",
       "num_images          0\n",
       "num_guides          0\n",
       "num_hikes           0\n",
       "dtype: int64"
      ]
     },
     "execution_count": 92,
     "metadata": {},
     "output_type": "execute_result"
    }
   ],
   "source": [
    "kp_df.isnull().sum()"
   ]
  },
  {
   "cell_type": "markdown",
   "metadata": {},
   "source": [
    "заполняемость данных достаточно хорошая, стоит запомнить, какие поля чаще всего отсутствуют"
   ]
  },
  {
   "cell_type": "code",
   "execution_count": 93,
   "metadata": {},
   "outputs": [
    {
     "name": "stdout",
     "output_type": "stream",
     "text": [
      "Field distance\n",
      "https://www.vpoxod.ru/route/krim_routes/Gornyj-lager-Dolina-prividenij#content-top\n",
      "https://www.vpoxod.ru/route/nw/velo-praktikum#content-top\n",
      "https://www.vpoxod.ru/route/nw/gitara-po-krugu-spb#content-top\n",
      "https://www.vpoxod.ru/route/baikal/baikal_ski#content-top\n",
      "https://www.vpoxod.ru/route/france/exspress_voshozhdenie_na_monblan#content-top\n",
      "Field duration\n",
      "https://www.vpoxod.ru/route/podmoskovje/vorya2#content-top\n",
      "https://www.vpoxod.ru/route/nw/sup-progulka-po-centru-pitera-novaa-gollandia-i-reka-mojka#content-top\n",
      "https://www.vpoxod.ru/route/podmoskovje/Nodia#content-top\n",
      "https://www.vpoxod.ru/route/karelia/karelskie_zarisovki#content-top\n",
      "https://www.vpoxod.ru/route/nw/ladoga-pvd2#content-top\n",
      "Field level\n",
      "https://www.vpoxod.ru/route/podmoskovje/Desna_1day#content-top\n",
      "https://www.vpoxod.ru/route/turkey/turkey_boat_tour#content-top\n",
      "https://www.vpoxod.ru/route/nw/splav_tihaya_ladoga#content-top\n",
      "https://www.vpoxod.ru/route/altai/Altay_phototour#content-top\n",
      "https://www.vpoxod.ru/route/georgia/vinnaa-gruzia#content-top\n",
      "Field type\n",
      "https://www.vpoxod.ru/route/krim_routes/crimea_phototour#content-top\n",
      "https://www.vpoxod.ru/route/altai/All_Altay_avto_autumn#content-top\n",
      "https://www.vpoxod.ru/route/kamchatka/kamchatka-morskoe-puteshestvie#content-top\n",
      "https://www.vpoxod.ru/route/nw/nastolki#content-top\n",
      "https://www.vpoxod.ru/route/central-region/gory-karery-i-stolni#content-top\n",
      "Field is_children\n",
      "https://www.vpoxod.ru/route/caucasus/vokrug-elbrusa#content-top\n",
      "https://www.vpoxod.ru/route/Livan/po_livanskoj_trope#content-top\n",
      "https://www.vpoxod.ru/route/Mongolia/voskhozhdenie-na-nayramdal#content-top\n",
      "https://www.vpoxod.ru/route/nw/fort-krasnaya-gorka#content-top\n",
      "https://www.vpoxod.ru/route/caucasus/elbrusskiy-kaleydoskop#content-top\n"
     ]
    }
   ],
   "source": [
    "for field in ['distance','duration','level','type','is_children']:\n",
    "    print(f'Field {field}')\n",
    "    for url in kp_df[kp_df[field].isnull()]['url'].sample(5):\n",
    "        print(url)"
   ]
  },
  {
   "cell_type": "markdown",
   "metadata": {},
   "source": [
    "Если нет *level*, то присваиваем самый легкий! Кажется походы не страшные  \n"
   ]
  },
  {
   "cell_type": "code",
   "execution_count": 94,
   "metadata": {},
   "outputs": [
    {
     "name": "stdout",
     "output_type": "stream",
     "text": [
      "101      27\n",
      "1150     62\n",
      "1043     73\n",
      "924      90\n",
      "740      99\n",
      "1009    105\n",
      "795     111\n",
      "746     127\n",
      "439     141\n",
      "1049    162\n",
      "Name: short_desc_len, dtype: object\n",
      "https://www.vpoxod.ru/route/Moldova/Moldova-long-weekend#content-top\n",
      "https://www.vpoxod.ru/route/Moldova/along-transnistria#content-top\n",
      "https://www.vpoxod.ru/route/nw/bolota-i-lesa-uga-leningradskoj-oblasti#content-top\n",
      "https://www.vpoxod.ru/route/greece/Grecheskaya-Odisseya-avto-tur#content-top\n",
      "https://www.vpoxod.ru/route/podmoskovje/velopark#content-top\n",
      "https://www.vpoxod.ru/route/turkey/mramornoe-more#content-top\n",
      "https://www.vpoxod.ru/route/georgia/Konnyj-pohod-v-Gruzii#content-top\n",
      "https://www.vpoxod.ru/route/podmoskovje/Lohin_island#content-top\n",
      "https://www.vpoxod.ru/route/caucasus/vdol-glavnogo-kavkazskogo-hrebta#content-top\n",
      "https://www.vpoxod.ru/route/karelia/zamok_Karhumyakki#content-top\n"
     ]
    },
    {
     "data": {
      "image/png": "[encoded data removed]",
      "text/plain": [
       "<Figure size 432x288 with 1 Axes>"
      ]
     },
     "metadata": {
      "needs_background": "light"
     },
     "output_type": "display_data"
    }
   ],
   "source": [
    "print(kp_df.sort_values('short_desc_len').short_desc_len[:10])\n",
    "for url in kp_df.sort_values('short_desc_len').url[:10]:\n",
    "    print(url)\n",
    "    \n",
    "kp_df['short_desc_len'].plot.hist(bins=20)\n",
    "plt.show()"
   ]
  },
  {
   "cell_type": "markdown",
   "metadata": {},
   "source": [
    "С короткими описаниями всё нормально"
   ]
  },
  {
   "cell_type": "code",
   "execution_count": 95,
   "metadata": {
    "scrolled": true
   },
   "outputs": [
    {
     "name": "stdout",
     "output_type": "stream",
     "text": [
      "813     1803\n",
      "1049    1886\n",
      "870     2249\n",
      "1150    2976\n",
      "1098    3161\n",
      "1053    3172\n",
      "69      3299\n",
      "741     3302\n",
      "1065    3391\n",
      "719     3391\n",
      "Name: full_desc_len, dtype: object\n",
      "https://www.vpoxod.ru/route/Mongolia/voskhozhdenie-na-nayramdal#content-top\n",
      "<div class=\"route_description\"><div class=\"route_description_left\" id=\"route-description-content\"><div class=\"route_description_days\"><p>Описание скоро появится!</p></div><div class=\"mt-lg hover-opacity social-block\"> <div class=\"share-block\"><div class=\"tell-friends-widget\"><div class=\"ya-share2\" data-copy=\"extraItem\" data-curtain=\"\" data-image=\"https://b1.vpoxod.ru/route/ec/9c/81687_350x280.jpg\" data-limit=\"0\" data-more-button-type=\"short\" data-popup-position=\"outer\" data-services=\"telegram,whatsapp,viber,vkontakte,facebook\" data-size=\"m\" data-url=\"https://www.vpoxod.ru/route/Mongolia/voskhozhdenie-na-nayramdal/about\"></div> </div></div><div class=\"like-block\"><div class=\"vk-like\" id=\"vk-like-description\"></div> <div class=\"fb-like\" data-action=\"recommend\" data-href=\"https://www.vpoxod.ru/route/Mongolia/voskhozhdenie-na-nayramdal/about\" data-layout=\"button_count\" data-share=\"false\" data-show-faces=\"false\" data-size=\"small\" data-width=\"160\"></div> </div></div></div><div class=\"route_description_right\" data-url=\"/route/load-more-photos?id=10090\" id=\"route-description-photos\"><ul><li style=\"display: none\"><a href=\"/gallery/photo/48988\"><img alt=\"Монголия, Восхождение на высшую точку Монголии – гору Найрамдал (4374 м). Разведка\" src=\"https://b1.vpoxod.ru/route-photo/d0/b8/94/19/81688_221x160.jpg\"/></a></li><li style=\"display: none\"><a href=\"/gallery/photo/48989\"><img alt=\"Монголия, Восхождение на высшую точку Монголии – гору Найрамдал (4374 м). Разведка\" src=\"https://b1.vpoxod.ru/route-photo/cc/fe/76/78/81689_221x160.jpg\"/></a></li><li style=\"display: none\"><a href=\"/gallery/photo/48990\"><img alt=\"Монголия, Восхождение на высшую точку Монголии – гору Найрамдал (4374 м). Разведка\" src=\"https://b1.vpoxod.ru/route-photo/c5/88/08/fd/81690_221x160.jpg\"/></a></li></ul></div></div>\n",
      "https://www.vpoxod.ru/route/karelia/zamok_Karhumyakki#content-top\n",
      "<div class=\"route_description\"><div class=\"route_description_left\" id=\"route-description-content\"><div class=\"route_description_days\"><h2>День 1</h2><p>Встречаемся на вокзале города Медвежьегорска в 6.00, знакомимся и идем исследовать город. И не только город! Поднимемся на гору, посетим комплекс финских оборонительных сооружений. Укрепрайон Кархумяки представляет собой огромный лабиринт, настоящий «город в скале», поражающий своими масштабами. Он строился финнами с 1942 по 1944 годы для обороны наподобие «Линии Маннергейма» на Карельском перешейке. Финны назвали его «Замок Кархумяки», что в переводе с финского обозначает «Медведь-гора» («карху» - медведь, «мяки» - гора).<br/>\n",
      "А потом переезжаем в село Великая губа, а откуда (на судне на воздушной подушке) - на остров Кижи, где будем гулять и любоваться деревянным кружевом старинных построек, пока не стемнеет. Ночуем в деревенской избе.</p><h2>День 2</h2><p>Сегодня у нас долгий переезд в Петрозаводск, но и по пути есть, что посмотреть. Вечерней \"Ласточкой\" возвращаемся домой, планировать новые путешествия.<br/>\n",
      " </p></div><div class=\"mt-lg hover-opacity social-block\"> <div class=\"share-block\"><div class=\"tell-friends-widget\"><div class=\"ya-share2\" data-copy=\"extraItem\" data-curtain=\"\" data-image=\"https://b1.vpoxod.ru/route/df/3f/142115_350x280.jpg\" data-limit=\"0\" data-more-button-type=\"short\" data-popup-position=\"outer\" data-services=\"telegram,whatsapp,viber,vkontakte,facebook\" data-size=\"m\" data-url=\"https://www.vpoxod.ru/route/karelia/zamok_Karhumyakki/about\"></div> </div></div><div class=\"like-block\"><div class=\"vk-like\" id=\"vk-like-description\"></div> <div class=\"fb-like\" data-action=\"recommend\" data-href=\"https://www.vpoxod.ru/route/karelia/zamok_Karhumyakki/about\" data-layout=\"button_count\" data-share=\"false\" data-show-faces=\"false\" data-size=\"small\" data-width=\"160\"></div> </div></div></div></div>\n",
      "https://www.vpoxod.ru/route/karelia/splav_Kuzema#content-top\n",
      "<div class=\"route_description\"><div class=\"route_description_left\" id=\"route-description-content\"><div class=\"mt-lg hover-opacity social-block\"> <div class=\"share-block\"><div class=\"tell-friends-widget\"><div class=\"ya-share2\" data-copy=\"extraItem\" data-curtain=\"\" data-image=\"https://b1.vpoxod.ru/route/9c/e8/91818_350x280.jpg\" data-limit=\"0\" data-more-button-type=\"short\" data-popup-position=\"outer\" data-services=\"telegram,whatsapp,viber,vkontakte,facebook\" data-size=\"m\" data-url=\"https://www.vpoxod.ru/route/karelia/splav_Kuzema/about\"></div> </div></div><div class=\"like-block\"><div class=\"vk-like\" id=\"vk-like-description\"></div> <div class=\"fb-like\" data-action=\"recommend\" data-href=\"https://www.vpoxod.ru/route/karelia/splav_Kuzema/about\" data-layout=\"button_count\" data-share=\"false\" data-show-faces=\"false\" data-size=\"small\" data-width=\"160\"></div> </div></div></div><div class=\"route_description_right\" data-url=\"/route/load-more-photos?id=10261\" id=\"route-description-photos\"><ul><li style=\"display: none\"><a href=\"/gallery/photo/54223\"><img alt=\"Карелия, Сплав по реке Кузема\" src=\"https://b1.vpoxod.ru/route-photo/39/ea/59/10/91819_221x160.jpg\"/></a></li><li style=\"display: none\"><a href=\"/gallery/photo/54224\"><img alt=\"Карелия, Сплав по реке Кузема\" src=\"https://b1.vpoxod.ru/route-photo/9b/01/c2/54/91820_221x160.jpg\"/></a></li><li style=\"display: none\"><a href=\"/gallery/photo/54225\"><img alt=\"Карелия, Сплав по реке Кузема\" src=\"https://b1.vpoxod.ru/route-photo/3b/d3/36/61/91821_221x160.jpg\"/></a></li><li style=\"display: none\"><a href=\"/gallery/photo/54226\"><img alt=\"Карелия, Сплав по реке Кузема\" src=\"https://b1.vpoxod.ru/route-photo/24/fe/f8/ad/91822_221x160.jpg\"/></a></li><li style=\"display: none\"><a href=\"/gallery/photo/54227\"><img alt=\"Карелия, Сплав по реке Кузема\" src=\"https://b1.vpoxod.ru/route-photo/6e/1f/1c/d3/91823_221x160.jpg\"/></a></li><li style=\"display: none\"><a href=\"/gallery/photo/54228\"><img alt=\"Карелия, Сплав по реке Кузема\" src=\"https://b1.vpoxod.ru/route-photo/63/62/94/03/91824_221x160.jpg\"/></a></li><li style=\"display: none\"><a href=\"/gallery/photo/54229\"><img alt=\"Карелия, Сплав по реке Кузема\" src=\"https://b1.vpoxod.ru/route-photo/a5/de/8a/5b/91825_221x160.jpg\"/></a></li></ul></div></div>\n",
      "https://www.vpoxod.ru/route/Moldova/along-transnistria#content-top\n",
      "<div class=\"route_description\"><div class=\"route_description_left\" id=\"route-description-content\"><div class=\"route_description_days\"><p>Описание программы скоро появится.</p></div><div class=\"mt-lg hover-opacity social-block\"> <div class=\"share-block\"><div class=\"tell-friends-widget\"><div class=\"ya-share2\" data-copy=\"extraItem\" data-curtain=\"\" data-image=\"https://b1.vpoxod.ru/route/05/dd/163229_350x280.jpg\" data-limit=\"0\" data-more-button-type=\"short\" data-popup-position=\"outer\" data-services=\"telegram,whatsapp,viber,vkontakte,facebook\" data-size=\"m\" data-url=\"https://www.vpoxod.ru/route/Moldova/along-transnistria/about\"></div> </div></div><div class=\"like-block\"><div class=\"vk-like\" id=\"vk-like-description\"></div> <div class=\"fb-like\" data-action=\"recommend\" data-href=\"https://www.vpoxod.ru/route/Moldova/along-transnistria/about\" data-layout=\"button_count\" data-share=\"false\" data-show-faces=\"false\" data-size=\"small\" data-width=\"160\"></div> </div></div></div><div class=\"route_description_right\" data-url=\"/route/load-more-photos?id=11020\" id=\"route-description-photos\"><ul><li style=\"display: none\"><a href=\"/gallery/photo/83710\"><img alt=\"Молдова, По эту сторону Приднестровья \" src=\"https://b1.vpoxod.ru/route-photo/9a/63/cf/2d/163230_221x160.jpg\"/></a></li><li style=\"display: none\"><a href=\"/gallery/photo/83711\"><img alt=\"Молдова, По эту сторону Приднестровья \" src=\"https://b1.vpoxod.ru/route-photo/8c/6c/74/ac/163231_221x160.jpg\"/></a></li><li style=\"display: none\"><a href=\"/gallery/photo/83712\"><img alt=\"Молдова, По эту сторону Приднестровья \" src=\"https://b1.vpoxod.ru/route-photo/ce/85/57/03/163232_221x160.jpg\"/></a></li><li style=\"display: none\"><a href=\"/gallery/photo/83713\"><img alt=\"Молдова, По эту сторону Приднестровья \" src=\"https://b1.vpoxod.ru/route-photo/af/66/99/af/163233_221x160.jpg\"/></a></li><li style=\"display: none\"><a href=\"/gallery/photo/83714\"><img alt=\"Молдова, По эту сторону Приднестровья \" src=\"https://b1.vpoxod.ru/route-photo/fe/62/16/7c/163234_221x160.jpg\"/></a></li><li style=\"display: none\"><a href=\"/gallery/photo/83715\"><img alt=\"Молдова, По эту сторону Приднестровья \" src=\"https://b1.vpoxod.ru/route-photo/6b/a0/fc/e5/163235_221x160.jpg\"/></a></li><li style=\"display: none\"><a href=\"/gallery/photo/83716\"><img alt=\"Молдова, По эту сторону Приднестровья \" src=\"https://b1.vpoxod.ru/route-photo/9f/d0/e4/50/163236_221x160.jpg\"/></a></li><li style=\"display: none\"><a href=\"/gallery/photo/83717\"><img alt=\"Молдова, По эту сторону Приднестровья \" src=\"https://b1.vpoxod.ru/route-photo/2c/f7/f3/67/163237_221x160.jpg\"/></a></li><li style=\"display: none\"><a href=\"/gallery/photo/83718\"><img alt=\"Молдова, По эту сторону Приднестровья \" src=\"https://b1.vpoxod.ru/route-photo/51/93/72/a5/163238_221x160.jpg\"/></a></li><li style=\"display: none\"><a href=\"/gallery/photo/83719\"><img alt=\"Молдова, По эту сторону Приднестровья \" src=\"https://b1.vpoxod.ru/route-photo/5f/06/9b/49/163239_221x160.jpg\"/></a></li></ul></div></div>\n",
      "https://www.vpoxod.ru/route/podmoskovje/Skandinavskaia#content-top\n",
      "<div class=\"route_description\"><div class=\"route_description_left\" id=\"route-description-content\"><div class=\"route_description_days\"><p>Приглашаем на Скандинавскую ходьбу по Подосинкам. Скандинавская ходьба – это не просто ходьба с палками, а полноценный оздоровительный вид спорта со своими правилами и техниками. Мы сделаем разминку, научимся правильно ходить с палками, дышать и настраивать палки для скандинавской ходьбы. Мы разберемся, в чем различия скандинавской ходьбы по равнине и треккингу с палками по горной местности, почувствуем как работает наше тело при правильных движениях и с легкостью и удовольствием пройдем живописный маршрут по подмосковным Подосинкам.<br/><br/>\n",
      "Мы пройдем 16 км. по смешанному лесу, извилистому берегу реки Нерской, уютным полянкам и секретным мостикам к лесной беседке. Здесь мы остановимся на перекус и легкую растяжку. В конце прогулки нас ожидают приятные ощущения от активного дня проведенного в лесу и нового вида спорта, дарящего здоровье и легкость ходьбы.</p><p><strong>Снаряжение: </strong></p><p>Небольшой городской рюкзак 25-25 литров.</p><p>-Треккинговые палки ( можно взять в прокат в офисе Клуба Приключений)<br/>\n",
      "-Треккинговые зимние ботинки, спортивные сапоги<br/>\n",
      "-Треккинговые носки<br/>\n",
      "- Запасные стельки<br/>\n",
      "- Запасные теплые носки<br/>\n",
      "- Термобелье ( желательно влагоотводящее - надетое на тело)<br/>\n",
      "- Туристические или спортивные брюки<br/>\n",
      "- Футболка<br/>\n",
      "- Флисовая кофта<br/>\n",
      "- Куртка зимняя для активного отдыха ( в которой не будет избыточно жарко при ходьбе)<br/>\n",
      "- Перчатки, шарф, шапка.<br/>\n",
      "- Посуда: кружка, ложка, миска, нож.<br/>\n",
      "- Аптечка с личными лекарствами</p></div><div class=\"mt-lg hover-opacity social-block\"> <div class=\"share-block\"><div class=\"tell-friends-widget\"><div class=\"ya-share2\" data-copy=\"extraItem\" data-curtain=\"\" data-image=\"https://b1.vpoxod.ru/route/b6/53/148550_350x280.jpg\" data-limit=\"0\" data-more-button-type=\"short\" data-popup-position=\"outer\" data-services=\"telegram,whatsapp,viber,vkontakte,facebook\" data-size=\"m\" data-url=\"https://www.vpoxod.ru/route/podmoskovje/Skandinavskaia/about\"></div> </div></div><div class=\"like-block\"><div class=\"vk-like\" id=\"vk-like-description\"></div> <div class=\"fb-like\" data-action=\"recommend\" data-href=\"https://www.vpoxod.ru/route/podmoskovje/Skandinavskaia/about\" data-layout=\"button_count\" data-share=\"false\" data-show-faces=\"false\" data-size=\"small\" data-width=\"160\"></div> </div></div></div><div class=\"route_description_right\" data-url=\"/route/load-more-photos?id=10820\" id=\"route-description-photos\"><ul><li style=\"display: none\"><a href=\"/gallery/photo/75986\"><img alt=\"Подмосковье, Скандинавская ходьба в Подосинках\" src=\"https://b1.vpoxod.ru/route-photo/b2/fb/33/26/148551_221x160.jpg\"/></a></li><li style=\"display: none\"><a href=\"/gallery/photo/75987\"><img alt=\"Подмосковье, Скандинавская ходьба в Подосинках\" src=\"https://b1.vpoxod.ru/route-photo/6f/89/83/ae/148552_221x160.jpg\"/></a></li><li style=\"display: none\"><a href=\"/gallery/photo/75988\"><img alt=\"Подмосковье, Скандинавская ходьба в Подосинках\" src=\"https://b1.vpoxod.ru/route-photo/11/57/e3/67/148553_221x160.jpg\"/></a></li></ul></div></div>\n",
      "https://www.vpoxod.ru/route/nw/odnodnevnie-semeynie-poxodi#content-top\n",
      "<div class=\"route_description\"><div class=\"route_description_left\" id=\"route-description-content\"><div class=\"route_description_days\"><h3>Расписание однодневных походов:</h3><h4>\"Весенние игрища в Озерках\" | 24 апреля!</h4><p>Активная программа для детей и родителей!!<br/>\n",
      "Чтобы отлично провести время не нужно далеко ехать!</p><p>Встречаемся в Озерках!</p><p>Вас ждут:<br/>\n",
      "-зажигательные игры,<br/>\n",
      "-соревнования,<br/>\n",
      "-увлекательный квест<br/>\n",
      "и прогулка по настоящему заказнику </p><p>Рекомендованный возраст: от 5 до 99 лет:)<br/>\n",
      "Стоимость: 450р взрослый, 300р детский<br/>\n",
      "Продолжительность: 3,5-4 часа<br/>\n",
      "Старт в 10:00!</p><p>Подробнее о программе:</p><p>Встречаемся в Озерках на берегу Среднего Суздальского озера!</p><p>Знакомимся, разминаемся, делимся на команды!<br/>\n",
      "Нас ждёт увлекательный квест по здешним местам! История под ногами! Уверены, все найдут для себя интересности:)<br/>\n",
      "Успешно финишируем, подводим итоги:)</p><p>Дальше нас ждут весёлые игры и командные соревнования, повеселимся от души:)</p><p>Теперь время передохнуть и насладиться природой! Мы отправимся в настоящий природный заказник, тут совсем рядом:) И там нас тоже ждут важные дела и весёлые приключения:)</p><p>Уставшие и довольные финишируем у красивого старинного вокзала жд станции «Шувалово».</p><p>Инструктор  будет ждать вас на месте встречи.</p><p>В стоимость входит:<br/>\n",
      "- сладкий приз (вкусняшка)<br/>\n",
      "- групповая аптечка</p><p>В стоимость не входит:<br/>\n",
      "- перекус (бутерброды, чай)<br/>\n",
      "- проезд к месту проведения и обратно</p><p>Вам понадобится:<br/>\n",
      "удобная для активностей теплая одежда<br/>\n",
      "непромокаемая обувь<br/>\n",
      "дополнительная кофта / поддёва (утеплиться после бега)<br/>\n",
      "сидушка (пендель (сохраняет в тепле самое ценное:))<br/>\n",
      "термос с чаем и бутерброды (это и будет перекусом)<br/>\n",
      "деньги на взнос и дорогу туда/обратно<br/>\n",
      "паспорт/свид-во о рождении + мед полис<br/>\n",
      "фотоаппарат/телефон с камерой для крутых фоточек:)</p><hr/><p><strong>Важная информация!</strong></p><p>Запись на все однодневные семейные походы производится в нашей официальной группе семейных походов в ВКонтакте по ссылке: <a href=\"https://vk.com/deti_kp\"><strong>Походы с детьми - Клуб Приключений</strong></a><br/>\n",
      "Записывать на участие могут только инструкторы.<br/><strong>Оплата – лично в руки инструктору в день похода.</strong> Мы не просим предоплаты! </p><p> </p></div><div class=\"mt-lg hover-opacity social-block\"> <div class=\"share-block\"><div class=\"tell-friends-widget\"><div class=\"ya-share2\" data-copy=\"extraItem\" data-curtain=\"\" data-image=\"https://b1.vpoxod.ru/route/2f/eb/143163_350x280.jpg\" data-limit=\"0\" data-more-button-type=\"short\" data-popup-position=\"outer\" data-services=\"telegram,whatsapp,viber,vkontakte,facebook\" data-size=\"m\" data-url=\"https://www.vpoxod.ru/route/nw/odnodnevnie-semeynie-poxodi/about\"></div> </div></div><div class=\"like-block\"><div class=\"vk-like\" id=\"vk-like-description\"></div> <div class=\"fb-like\" data-action=\"recommend\" data-href=\"https://www.vpoxod.ru/route/nw/odnodnevnie-semeynie-poxodi/about\" data-layout=\"button_count\" data-share=\"false\" data-show-faces=\"false\" data-size=\"small\" data-width=\"160\"></div> </div></div></div></div>\n",
      "https://www.vpoxod.ru/route/podmoskovje/Desna_1day#content-top\n",
      "<div class=\"route_description\"><div class=\"route_description_left\" id=\"route-description-content\"><div class=\"route_description_days\"><p>Обращаем ваше внимание на то, что данный сплав является разведкой, инструктор на нем еще не был, вас могут поджидать неожиданные препятствия и трудности, которые, конечно же, вы все вместе преодолеете.</p></div><h2 class=\"route_description_left_title\">Программа по дням</h2><div class=\"route_description_days\"><p>Встречаемся на платформе Силикатная в 10 утра (удобная электричка в 9.04 с Курского вокзала). Далее доедем на такси до берега реки, где подготовимся к сплаву, послушаем инструктаж по технике безопасности и распределимся по байдаркам.</p><p>Впереди 14 километров речной прогулки с остановкой на обед. Речка Десна с быстринкой, извилиста и полна препятствий, возможно, будет сложно, но интересно</p><p>Закончим мы сплав в парке имени Талалихина в г. Подольске.</p></div><div class=\"mt-lg hover-opacity social-block\"> <div class=\"share-block\"><div class=\"tell-friends-widget\"><div class=\"ya-share2\" data-copy=\"extraItem\" data-curtain=\"\" data-image=\"https://b1.vpoxod.ru/route/28/b8/166980_350x280.jpg\" data-limit=\"0\" data-more-button-type=\"short\" data-popup-position=\"outer\" data-services=\"telegram,whatsapp,viber,vkontakte,facebook\" data-size=\"m\" data-url=\"https://www.vpoxod.ru/route/podmoskovje/Desna_1day/about\"></div> </div></div><div class=\"like-block\"><div class=\"vk-like\" id=\"vk-like-description\"></div> <div class=\"fb-like\" data-action=\"recommend\" data-href=\"https://www.vpoxod.ru/route/podmoskovje/Desna_1day/about\" data-layout=\"button_count\" data-share=\"false\" data-show-faces=\"false\" data-size=\"small\" data-width=\"160\"></div> </div></div></div><div class=\"route_description_right\" data-url=\"/route/load-more-photos?id=11036\" id=\"route-description-photos\"><ul><li style=\"display: none\"><a href=\"/gallery/photo/84452\"><img alt=\"Подмосковье, Однодневный сплав по рекам Десна и Пахра с посещением усадьбы Дубровицы (разведка)\" src=\"https://b1.vpoxod.ru/route-photo/45/37/5d/0e/166981_221x160.jpg\"/></a></li><li style=\"display: none\"><a href=\"/gallery/photo/84453\"><img alt=\"Подмосковье, Однодневный сплав по рекам Десна и Пахра с посещением усадьбы Дубровицы (разведка)\" src=\"https://b1.vpoxod.ru/route-photo/d9/bd/b0/3b/166982_221x160.jpg\"/></a></li><li style=\"display: none\"><a href=\"/gallery/photo/84454\"><img alt=\"Подмосковье, Однодневный сплав по рекам Десна и Пахра с посещением усадьбы Дубровицы (разведка)\" src=\"https://b1.vpoxod.ru/route-photo/ee/6f/68/4e/166983_221x160.jpg\"/></a></li><li style=\"display: none\"><a href=\"/gallery/photo/84455\"><img alt=\"Подмосковье, Однодневный сплав по рекам Десна и Пахра с посещением усадьбы Дубровицы (разведка)\" src=\"https://b1.vpoxod.ru/route-photo/61/bf/a3/f3/166984_221x160.jpg\"/></a></li><li style=\"display: none\"><a href=\"/gallery/photo/84456\"><img alt=\"Подмосковье, Однодневный сплав по рекам Десна и Пахра с посещением усадьбы Дубровицы (разведка)\" src=\"https://b1.vpoxod.ru/route-photo/c7/3d/c4/5d/166985_221x160.jpg\"/></a></li><li style=\"display: none\"><a href=\"/gallery/photo/84457\"><img alt=\"Подмосковье, Однодневный сплав по рекам Десна и Пахра с посещением усадьбы Дубровицы (разведка)\" src=\"https://b1.vpoxod.ru/route-photo/98/79/b2/a0/166986_221x160.jpg\"/></a></li></ul></div></div>\n",
      "https://www.vpoxod.ru/route/finlandia/Salpa#content-top\n",
      "<div class=\"route_description\"><div class=\"route_description_left\" id=\"route-description-content\"><div class=\"route_description_days\"><ul><li>Лёгкий поход, опыт не обязателен (40-50 км в день);</li><li>Проживание в палатках (две ночи);</li><li>Необходим исправный и надёжный велосипед (не прокатный);</li><li>Необходим заграничный паспорт с действующей шенгенской визой;</li><li>Преимущественно грунтовые и лесные дороги;</li><li>Питание 3х разовое - завтрак и ужин (готовим самостоятельно), днём перекус;  </li></ul></div><h2 class=\"route_description_left_title\">Программа по дням</h2><div class=\"route_description_days\"><h3>День 1</h3><p>Встречаемся на Финляндском вокзале и дружно садимся в Ласточку, которая быстро домчит нас до Выборга. Там нас уже будет ждать вело-такси, на котором мы доедем до границы.</p><p>Пройдя пограничный контроль, наше путешествие начинается с велодорожки, ведущей в небольшой городок Виролахти (здесь есть несколько супермаркетов и кафе). Далее, мы отправляемся <strong>к мысу Маяниеми - с панорамными видами </strong>морских пейзажей и фортификационными сооружениями. Отсюда начинается наше приключение по тропе Салпа.   </p><p><strong>Линия Салпа</strong> (фин. salpa — «затвор» или «засов») - череда военных укреплений длиной 1200 км от Финского залива до Петсамо на территории Финляндии. Линия была построена в 1941 году после «Зимней Войны» для защиты от вероятного нападения со стороны Советского Союза. В боевых действиях линия не участвовала. Мы познакомимся как с укреплениями и историей Линии Салпа, так и с особенностями природы и культурной среды юго-восточной Финляндии.</p><p>Маршрут начинается от побережья Финского залива в Виролахти и, пересекая леса, холмы и поля, ведет в Миехиккяля, к границе с Южной Карелией.  </p><h3>День 2</h3><p>Сегодня маршрут продолжается по традиционным ландшафтам юго-восточной Финляндии в сторону <strong>Музея-бункера в Виролахти</strong>, а затем – до озера Сякяярви. Далее тропа пролегает в направлении муниципалитета Миехиккяля и ведет к стоянке для отдыха и ночлега Йермула/Jermula. Оттуда через Музей Линии Салпа маршрут ведет <strong>к лесной избе в Мухикко</strong>/Muhikko и глухим лесам Такамаа.</p><p>Конечный пункт этого дня – <strong>пещера Хостикка</strong> в Южной Карелии.  </p><h3>День 3</h3><p>Сегодня мы смотрим оставшиеся укрепления и отправимся домой. Пройдя пограничный контроль, садем в  велотакси, которое домчит нас <strong>до Выборга</strong>.</p><p>В оставшееся до электрички время, прогуляемся по городу.    </p></div><div class=\"mt-lg hover-opacity social-block\"> <div class=\"share-block\"><div class=\"tell-friends-widget\"><div class=\"ya-share2\" data-copy=\"extraItem\" data-curtain=\"\" data-image=\"https://b1.vpoxod.ru/route/42/f0/57323_350x280.jpg\" data-limit=\"0\" data-more-button-type=\"short\" data-popup-position=\"outer\" data-services=\"telegram,whatsapp,viber,vkontakte,facebook\" data-size=\"m\" data-url=\"https://www.vpoxod.ru/route/finlandia/Salpa/about\"></div> </div></div><div class=\"like-block\"><div class=\"vk-like\" id=\"vk-like-description\"></div> <div class=\"fb-like\" data-action=\"recommend\" data-href=\"https://www.vpoxod.ru/route/finlandia/Salpa/about\" data-layout=\"button_count\" data-share=\"false\" data-show-faces=\"false\" data-size=\"small\" data-width=\"160\"></div> </div></div></div></div>\n",
      "https://www.vpoxod.ru/route/podmoskovje/IGLU#content-top\n",
      "<div class=\"route_description\"><div class=\"route_description_left\" id=\"route-description-content\"><div class=\"route_description_days\"><p style=\"margin-left:0cm; margin-right:0cm\"><span style=\"background-color:white\"><span style=\"color:#38322f\">Встреча на платформе Хрипань (площадка в 30м справа от платформы по ходу движения электричек из Москвы). Знакомимся и выдвигаемся на маршрут. </span></span><br/><br/><span style=\"background-color:white\"><span style=\"color:#38322f\">Проходим до намеченного места. Завтракаем. Организуем костер для согрева участников и ведем разговор о том, как же строить ИГЛУ. </span></span></p><p style=\"margin-left:0cm; margin-right:0cm\"><span style=\"background-color:white\"><span style=\"color:#38322f\">Выбираем место под снежный дом и начинаем заготовку строительного материала- нарезаем снежные блоки. Подошло время обеда, готовим с детьми обед, греемся и обедаем. Отдохнув продолжаем строительство. Наконец ИГЛУ построена. Обживаем и согреваем жилище. </span></span></p><p style=\"margin-left:0cm; margin-right:0cm\"><span style=\"background-color:white\"><span style=\"color:#38322f\">Все когда-то заканчивается. В конце дня совершаем переход обратно до станции. Немного уставшие, но очень довольные и узнавшие много нового, отправляемся домой.<br/>\n",
      " <br/>\n",
      "Программа состоится только при условии высоты снежного покрова в поле более 40 см и температуре воздуха ниже минус 5 и выше минус 12 градусов по Цельсию. Программа может модифицироваться в зависимости от погодных условий.</span></span><br/>\n",
      " </p></div><div class=\"mt-lg hover-opacity social-block\"> <div class=\"share-block\"><div class=\"tell-friends-widget\"><div class=\"ya-share2\" data-copy=\"extraItem\" data-curtain=\"\" data-image=\"https://b1.vpoxod.ru/route/52/d5/145345_350x280.jpg\" data-limit=\"0\" data-more-button-type=\"short\" data-popup-position=\"outer\" data-services=\"telegram,whatsapp,viber,vkontakte,facebook\" data-size=\"m\" data-url=\"https://www.vpoxod.ru/route/podmoskovje/IGLU/about\"></div> </div></div><div class=\"like-block\"><div class=\"vk-like\" id=\"vk-like-description\"></div> <div class=\"fb-like\" data-action=\"recommend\" data-href=\"https://www.vpoxod.ru/route/podmoskovje/IGLU/about\" data-layout=\"button_count\" data-share=\"false\" data-show-faces=\"false\" data-size=\"small\" data-width=\"160\"></div> </div></div></div><div class=\"route_description_right\" data-url=\"/route/load-more-photos?id=10719\" id=\"route-description-photos\"><ul><li style=\"display: none\"><a href=\"/gallery/photo/74318\"><img alt=\"Подмосковье, Строим ИГЛУ - Семейный поход\" src=\"https://b1.vpoxod.ru/route-photo/17/ad/29/67/145348_221x160.jpg\"/></a></li><li style=\"display: none\"><a href=\"/gallery/photo/74317\"><img alt=\"Подмосковье, Строим ИГЛУ - Семейный поход\" src=\"https://b1.vpoxod.ru/route-photo/2a/57/65/7a/145347_221x160.jpg\"/></a></li><li style=\"display: none\"><a href=\"/gallery/photo/74320\"><img alt=\"Подмосковье, Строим ИГЛУ - Семейный поход\" src=\"https://b1.vpoxod.ru/route-photo/17/19/74/d2/145350_221x160.jpg\"/></a></li><li style=\"display: none\"><a href=\"/gallery/photo/74319\"><img alt=\"Подмосковье, Строим ИГЛУ - Семейный поход\" src=\"https://b1.vpoxod.ru/route-photo/4d/bb/96/28/145349_221x160.jpg\"/></a></li><li style=\"display: none\"><a href=\"/gallery/photo/74316\"><img alt=\"Подмосковье, Строим ИГЛУ - Семейный поход\" src=\"https://b1.vpoxod.ru/route-photo/4a/11/bc/e3/145346_221x160.jpg\"/></a></li></ul></div></div>\n",
      "https://www.vpoxod.ru/route/Mongolia/mongolskie_skazaniya#content-top\n",
      "<div class=\"route_description\"><div class=\"route_description_left\" id=\"route-description-content\"><div class=\"route_description_days\"><p><strong>Внимание! </strong>При посещении Монголии необходимо иметь загранпаспорт со сроком окончания не позднее 6 месяцев.</p></div><h2 class=\"route_description_left_title\">Программа по дням</h2><div class=\"route_description_days\"><h3>День 1</h3><p>Ранний трансфер из города <strong>Улан-Удэ</strong> до <strong>Улан-Батора</strong>. Примерно к 12.00 часам дня прибытие в <strong>Кяхту</strong> на границу. Прохождение таможни. После пересечения границы обед (за свой счет). Ориентировочное время прибытия в Улан-Батор 19 - 20 часов. Размещение в отеле. Отдых.</p><h3>День 2</h3><p>Завтрак (за свой счет). <strong>Обзорная экскурсия по г. Улан-Батора</strong>. В ходе экскурсии вы посетите центральный буддийский монастырь Монголии «Гандан Тэгченлин». В нем расположена одна из самых больших статуй буддийского божества Аволакитешвары, высотой в 25 метров.</p><p>Также вы увидите центральную площадь Улан-Батора имени монгольского революционного деятеля Сухэ-Батора. Его статуя находится в середине площади. А в центре здания правительства находится скульптурная композиция из трона, на котором восседает Чингисхан, в окружении всадников на конях. Обед в кафе города (за свой счет). Трансфер в местность Цойжин Болдог посещение <strong>гигантской статуи Чингисхана верхом на коне.</strong> Посещение музея.</p><p>Отъезд в <strong>природный парк Тэрэлж</strong>, где Вы увидите красоты горных вершин, поднимитесь на одну из них. Сможете сделать фото около памятника природы «Черепаха», парка Динозавров. Размещение в отеле парка или по желанию в юрте. Ужин (за свой счет).</p><h3>День 3</h3><p>Завтрак (за свой счет). <strong>Свободное время для пеших и конных прогулок </strong>по парку Тэрэлж. Впечатления получите незабываемые и сможете привезти много ярких фотографий домой.</p><p>После обеда возвращаемся в Улан-Батор, где Вы сможете посетить <strong>торговые комплексы кашемировых фабрик</strong>. Купить себе товар, которого нигде не производят как в Монголии. Размещение в гостинице. Вечером можете посетить фольклорный концерт знаменитых артистов Монголии (по заявке за свой счет).</p><h3>День 4</h3><p>Завтрак. <strong>Отъезд в г. Улан-Удэ</strong>. Ориентировочное время прибытия 20:00 час. Размещение в гостинице.</p><h3>День 5</h3><p>Завтрак. Отъезд.  </p><p><em>Клуб оставляет за собой право изменить программу    (погодные условия, нарушения работы транспорта и др.) — не изменяя объема и качества предоставленных услуг. </em></p></div><div class=\"mt-lg hover-opacity social-block\"> <div class=\"share-block\"><div class=\"tell-friends-widget\"><div class=\"ya-share2\" data-copy=\"extraItem\" data-curtain=\"\" data-image=\"https://b1.vpoxod.ru/route/c9/32/41328_350x280.jpg\" data-limit=\"0\" data-more-button-type=\"short\" data-popup-position=\"outer\" data-services=\"telegram,whatsapp,viber,vkontakte,facebook\" data-size=\"m\" data-url=\"https://www.vpoxod.ru/route/Mongolia/mongolskie_skazaniya/about\"></div> </div></div><div class=\"like-block\"><div class=\"vk-like\" id=\"vk-like-description\"></div> <div class=\"fb-like\" data-action=\"recommend\" data-href=\"https://www.vpoxod.ru/route/Mongolia/mongolskie_skazaniya/about\" data-layout=\"button_count\" data-share=\"false\" data-show-faces=\"false\" data-size=\"small\" data-width=\"160\"></div> </div></div></div></div>\n"
     ]
    },
    {
     "data": {
      "image/png": "[encoded data removed]",
      "text/plain": [
       "<Figure size 432x288 with 1 Axes>"
      ]
     },
     "metadata": {
      "needs_background": "light"
     },
     "output_type": "display_data"
    }
   ],
   "source": [
    "print(kp_df.sort_values('full_desc_len').full_desc_len[:10])\n",
    "for url in kp_df.sort_values('full_desc_len').url[:10]:\n",
    "    print(url)\n",
    "    for route in kp_routes_evaled:\n",
    "        if route['url'] == url:\n",
    "            print(route['full_description'])\n",
    "    \n",
    "kp_df['full_desc_len'].plot.hist(bins=20)\n",
    "plt.show()"
   ]
  },
  {
   "cell_type": "markdown",
   "metadata": {},
   "source": [
    "С полными описаниями нужно подумать, что делать, можно вставлять целые блоки, но есть риски. Вычленять текст сложно"
   ]
  },
  {
   "cell_type": "code",
   "execution_count": 96,
   "metadata": {
    "scrolled": true
   },
   "outputs": [
    {
     "name": "stdout",
     "output_type": "stream",
     "text": [
      "1053    0\n",
      "724     0\n",
      "730     0\n",
      "322     0\n",
      "731     0\n",
      "929     0\n",
      "741     0\n",
      "158     0\n",
      "636     0\n",
      "719     0\n",
      "1147    0\n",
      "1025    0\n",
      "896     0\n",
      "1152    0\n",
      "847     0\n",
      "1049    0\n",
      "838     1\n",
      "665     3\n",
      "954     3\n",
      "813     3\n",
      "Name: num_images, dtype: object\n",
      "https://www.vpoxod.ru/route/nw/odnodnevnie-semeynie-poxodi#content-top\n",
      "https://www.vpoxod.ru/route/karelia/vytegra_i_okrestnosti#content-top\n",
      "https://www.vpoxod.ru/route/belorussiya/vodnii-pohod-po-rekam-isloch-berezina-neman#content-top\n",
      "https://www.vpoxod.ru/route/karelia/Rogaselga#content-top\n",
      "https://www.vpoxod.ru/route/nw/avtoputeshestvie-po-grimpinskoy-tryasine#content-top\n",
      "https://www.vpoxod.ru/route/france/zamki-juga-francii#content-top\n",
      "https://www.vpoxod.ru/route/finlandia/Salpa#content-top\n",
      "https://www.vpoxod.ru/route/podmoskovje/detskiysplav_2#content-top\n",
      "https://www.vpoxod.ru/route/romania/graf_dracula#content-top\n",
      "https://www.vpoxod.ru/route/Mongolia/mongolskie_skazaniya#content-top\n"
     ]
    },
    {
     "data": {
      "image/png": "[encoded data removed]",
      "text/plain": [
       "<Figure size 432x288 with 1 Axes>"
      ]
     },
     "metadata": {
      "needs_background": "light"
     },
     "output_type": "display_data"
    }
   ],
   "source": [
    "print(kp_df.sort_values('num_images').num_images[:20])\n",
    "for url in kp_df.sort_values('num_images').url[:10]:\n",
    "    print(url)\n",
    "    \n",
    "kp_df['num_images'].plot.hist(bins=20)\n",
    "plt.show()"
   ]
  },
  {
   "cell_type": "markdown",
   "metadata": {},
   "source": [
    "У некоторых нет фото, хотя заглавное фото есть, то есть возможно есть смысл отдельно выгружать главные фото или добавлять к списку. Возмодно пока не стоит париться, всего 16 таких походов без фото"
   ]
  },
  {
   "cell_type": "code",
   "execution_count": 97,
   "metadata": {},
   "outputs": [
    {
     "name": "stdout",
     "output_type": "stream",
     "text": [
      "1155    0\n",
      "861     0\n",
      "1039    0\n",
      "805     0\n",
      "624     0\n",
      "982     0\n",
      "1132    0\n",
      "882     0\n",
      "985     0\n",
      "900     0\n",
      "1153    0\n",
      "1152    0\n",
      "1151    0\n",
      "1147    0\n",
      "857     0\n",
      "828     1\n",
      "834     1\n",
      "836     1\n",
      "837     1\n",
      "838     1\n",
      "Name: num_guides, dtype: object\n",
      "https://www.vpoxod.ru/route/nw/sybbotnik#content-top\n",
      "https://www.vpoxod.ru/route/India/radjastan#content-top\n",
      "https://www.vpoxod.ru/route/kamchatka/kamchatka-morskoe-puteshestvie#content-top\n",
      "https://www.vpoxod.ru/route/spain/put-santyago-Camino-Frances#content-top\n",
      "https://www.vpoxod.ru/route/caucasus/ozera-teberdinskogo-hrebta#content-top\n",
      "https://www.vpoxod.ru/route/nw/Talabskij_arhipelag#content-top\n",
      "https://www.vpoxod.ru/route/central-region/gory-karery-i-stolni#content-top\n",
      "https://www.vpoxod.ru/route/germany/bavarian-alps-ascent-to-zugspitze-jubilee-route#content-top\n",
      "https://www.vpoxod.ru/route/nw/tropoyu_aleksandra_nevskogo#content-top\n",
      "https://www.vpoxod.ru/route/nw/gitara-po-krugu-spb#content-top\n"
     ]
    },
    {
     "data": {
      "image/png": "[encoded data removed]",
      "text/plain": [
       "<Figure size 432x288 with 1 Axes>"
      ]
     },
     "metadata": {
      "needs_background": "light"
     },
     "output_type": "display_data"
    }
   ],
   "source": [
    "print(kp_df.sort_values('num_guides').num_guides[:20])\n",
    "for url in kp_df.sort_values('num_guides').url[:10]:\n",
    "    print(url)\n",
    "\n",
    "kp_df['num_guides'].plot.hist(bins=20)\n",
    "plt.show()"
   ]
  },
  {
   "cell_type": "markdown",
   "metadata": {},
   "source": [
    "Есть действительно 15 походов без ответственных за это"
   ]
  },
  {
   "cell_type": "code",
   "execution_count": 60,
   "metadata": {},
   "outputs": [
    {
     "data": {
      "text/plain": [
       "0    554\n",
       "1    217\n",
       "2    129\n",
       "3     74\n",
       "4     45\n",
       "6     26\n",
       "5     23\n",
       "8     16\n",
       "7     11\n",
       "9     10\n",
       "Name: num_hikes, dtype: int64"
      ]
     },
     "execution_count": 60,
     "metadata": {},
     "output_type": "execute_result"
    }
   ],
   "source": [
    "kp_df.num_hikes.value_counts()[:10]"
   ]
  },
  {
   "cell_type": "code",
   "execution_count": 58,
   "metadata": {
    "scrolled": false
   },
   "outputs": [
    {
     "name": "stdout",
     "output_type": "stream",
     "text": [
      "1155    0\n",
      "775     0\n",
      "776     0\n",
      "777     0\n",
      "778     0\n",
      "779     0\n",
      "780     0\n",
      "781     0\n",
      "782     0\n",
      "783     0\n",
      "784     0\n",
      "785     0\n",
      "786     0\n",
      "787     0\n",
      "788     0\n",
      "774     0\n",
      "789     0\n",
      "791     0\n",
      "792     0\n",
      "793     0\n",
      "Name: num_hikes, dtype: object\n",
      "https://www.vpoxod.ru/route/nw/sybbotnik#content-top\n",
      "https://www.vpoxod.ru/route/nw/Kapsha_splav#content-top\n",
      "https://www.vpoxod.ru/route/tadjikistan/puteshestvie-po-pamirskomu-traktu#content-top\n",
      "https://www.vpoxod.ru/route/nw/K_Zelenodolskim_ozeram#content-top\n",
      "https://www.vpoxod.ru/route/ural/diyatlovsky#content-top\n",
      "https://www.vpoxod.ru/route/karelia/kiten_splav#content-top\n",
      "https://www.vpoxod.ru/route/georgia/solnechnaya-gruziya#content-top\n",
      "https://www.vpoxod.ru/route/nw/petrogradka#content-top\n",
      "https://www.vpoxod.ru/route/finlandia/Lapland_Inari_baidarka#content-top\n",
      "https://www.vpoxod.ru/route/cambodia/Charuyushchaya-Kambodzha#content-top\n"
     ]
    },
    {
     "data": {
      "image/png": "[encoded data removed]",
      "text/plain": [
       "<Figure size 432x288 with 1 Axes>"
      ]
     },
     "metadata": {
      "needs_background": "light"
     },
     "output_type": "display_data"
    }
   ],
   "source": [
    "print(kp_df.sort_values('num_hikes').num_hikes[:20])\n",
    "for url in kp_df.sort_values('num_hikes').url[:10]:\n",
    "    print(url)\n",
    "\n",
    "kp_df['num_hikes'].plot.hist(bins=20)\n",
    "plt.show()"
   ]
  },
  {
   "cell_type": "markdown",
   "metadata": {},
   "source": [
    "Есть целых 554 маршрутов без походов, видимо о них нужно договариваться отдельно, оставлять заявки"
   ]
  },
  {
   "cell_type": "code",
   "execution_count": 98,
   "metadata": {},
   "outputs": [
    {
     "data": {
      "text/plain": [
       "Регион:Подмосковье (все походы в этом регионе)                    204\n",
       "Регион:Сев-Запад (все походы в этом регионе)                      202\n",
       "Регион:Кавказ (все походы в этом регионе)                         103\n",
       "Регион:Карелия (все походы в этом регионе)                         70\n",
       "Регион:Крым (все походы в этом регионе)                            44\n",
       "Регион:Кольский (все походы в этом регионе)                        37\n",
       "Регион:Алтай (все походы в этом регионе)                           34\n",
       "Регион:Турция (все походы в этом регионе)                          30\n",
       "Регион:Байкал (все походы в этом регионе)                          28\n",
       "Регион:Урал (все походы в этом регионе)                            25\n",
       "Регион:Абхазия (все походы в этом регионе)                         18\n",
       "Регион:Франция (все походы в этом регионе)                         15\n",
       "Регион:Грузия (все походы в этом регионе)                          15\n",
       "Регион:Русский Север (все походы в этом регионе)                   13\n",
       "Регион:Сибирь (все походы в этом регионе)                          13\n",
       "Регион:Финляндия (все походы в этом регионе)                       13\n",
       "Регион:Центральный регион (все походы в этом регионе)              12\n",
       "Регион:Центральная и Южная Америка (все походы в этом регионе)     12\n",
       "Регион:Греция (все походы в этом регионе)                          11\n",
       "Регион:Норвегия (все походы в этом регионе)                        11\n",
       "Регион:Черногория (все походы в этом регионе)                      10\n",
       "Регион:Дальний Восток (все походы в этом регионе)                  10\n",
       "Регион:Сербия (все походы в этом регионе)                           9\n",
       "Регион:Камчатка (все походы в этом регионе)                         9\n",
       "Регион:Италия (все походы в этом регионе)                           8\n",
       "Регион:Киргизия (все походы в этом регионе)                         8\n",
       "Регион:Непал (все походы в этом регионе)                            8\n",
       "Регион:Прибалтика (все походы в этом регионе)                       7\n",
       "Регион:Беларусь (все походы в этом регионе)                         7\n",
       "Регион:Япония (все походы в этом регионе)                           6\n",
       "Регион:Кипр (все походы в этом регионе)                             6\n",
       "Регион:Испания (все походы в этом регионе)                          6\n",
       "Регион:Индия (все походы в этом регионе)                            5\n",
       "Регион:Португалия (все походы в этом регионе)                       5\n",
       "Регион:Казахстан (все походы в этом регионе)                        5\n",
       "Регион:Китай (все походы в этом регионе)                            5\n",
       "Регион:Калининград (все походы в этом регионе)                      5\n",
       "Регион:Килиманджаро (Танзания) (все походы в этом регионе)          5\n",
       "Регион:Марокко (все походы в этом регионе)                          5\n",
       "Регион:Восхождение на Эльбрус (все походы в этом регионе)           4\n",
       "Name: region, dtype: int64"
      ]
     },
     "execution_count": 98,
     "metadata": {},
     "output_type": "execute_result"
    }
   ],
   "source": [
    "kp_df.region.value_counts()[:40]"
   ]
  },
  {
   "cell_type": "code",
   "execution_count": 99,
   "metadata": {},
   "outputs": [
    {
     "name": "stdout",
     "output_type": "stream",
     "text": [
      "1043\n",
      "1156\n"
     ]
    }
   ],
   "source": [
    "print(kp_df.region.value_counts()[:40].sum())\n",
    "print(kp_df.shape[0])"
   ]
  },
  {
   "cell_type": "code",
   "execution_count": 100,
   "metadata": {},
   "outputs": [
    {
     "data": {
      "text/plain": [
       "103"
      ]
     },
     "execution_count": 100,
     "metadata": {},
     "output_type": "execute_result"
    }
   ],
   "source": [
    "kp_df.region.value_counts().size"
   ]
  },
  {
   "cell_type": "markdown",
   "metadata": {},
   "source": [
    "На 40 популярных регионов приходится почти все походы, всего регионов 103"
   ]
  },
  {
   "cell_type": "code",
   "execution_count": 107,
   "metadata": {},
   "outputs": [
    {
     "name": "stdout",
     "output_type": "stream",
     "text": [
      "Сложность:легкий, опыт не обязателен \n",
      "https://www.vpoxod.ru/route/karelia/shuya#content-top\n",
      "https://www.vpoxod.ru/route/karelia/keret#content-top\n",
      "https://www.vpoxod.ru/route/karelia/Ladoga_kayak#content-top\n",
      "Сложность:опыт не обязателен, средняя сложность \n",
      "https://www.vpoxod.ru/route/kolskiy/umba#content-top\n",
      "https://www.vpoxod.ru/route/siberia/putorana_komfort#content-top\n",
      "https://www.vpoxod.ru/route/nw/Vyborg_bay_kayak#content-top\n",
      "Сложность:средняя сложность, участникам с опытом \n",
      "https://www.vpoxod.ru/route/caucasus/vysokogornyj-nacionalnyj-park-alaniya-severnaya-osetiya-razvedka#content-top\n",
      "https://www.vpoxod.ru/route/podmoskovje/Po_Dorogam_Valdaia#content-top\n",
      "https://www.vpoxod.ru/route/podmoskovje/Vladimir_3d#content-top\n",
      "Сложность:средняя сложность \n",
      "https://www.vpoxod.ru/route/kolskiy/tumcha#content-top\n",
      "https://www.vpoxod.ru/route/kyrgyzstan/Issyk-kul#content-top\n",
      "https://www.vpoxod.ru/route/karelia/Beloe_more_pojakonda_sea_kayak#content-top\n",
      "Сложность:легкий \n",
      "https://www.vpoxod.ru/route/nw/Viborg_monrepo_kayak#content-top\n",
      "https://www.vpoxod.ru/route/abkhazia/termalnye-istochniki-abhaziis-prozhivaniem-v-gostevom-dome#content-top\n",
      "https://www.vpoxod.ru/route/nw/po-shkheram-ladogi-na-baidarkah#content-top\n",
      "Сложность:опыт не обязателен \n",
      "https://www.vpoxod.ru/route/karelia/Krysha-Karelii-gora-Nuorinen#content-top\n",
      "https://www.vpoxod.ru/route/serbia/serbia-plus-chernogoria#content-top\n",
      "https://www.vpoxod.ru/route/karelia/put-runopevcac-vyhodom-na-ruskealskij-ekspress#content-top\n",
      "Сложность:сложный, средняя сложность, участникам с опытом \n",
      "https://www.vpoxod.ru/route/altai/splav_po_reke_katun#content-top\n",
      "https://www.vpoxod.ru/route/baikal/jombolok_and_volcano#content-top\n",
      "https://www.vpoxod.ru/route/nw/trenirovka-na-katamaranah-v-losevo_pro#content-top\n",
      "Сложность:легкий, опыт не обязателен, средняя сложность \n",
      "https://www.vpoxod.ru/route/karelia/pistaioki_splav#content-top\n",
      "https://www.vpoxod.ru/route/karelia/Ladoga_kayak-9#content-top\n",
      "https://www.vpoxod.ru/route/nw/spbniagara#content-top\n",
      "Сложность:легкий, участникам с опытом \n",
      "https://www.vpoxod.ru/route/podmoskovje/Zvenigorod_mostki#content-top\n",
      "https://www.vpoxod.ru/route/podmoskovje/Dubrovitsy#content-top\n",
      "https://www.vpoxod.ru/route/podmoskovje/Alpaka_lama#content-top\n",
      "Сложность:сложный, участникам с опытом \n",
      "https://www.vpoxod.ru/route/altai/chuya_katun_splav#content-top\n",
      "https://www.vpoxod.ru/route/baikal/splav_jombolok_oka#content-top\n",
      "https://www.vpoxod.ru/route/altai/massiv_beluhi#content-top\n",
      "Сложность:легкий, средняя сложность \n",
      "https://www.vpoxod.ru/route/karelia/splav_keret_18#content-top\n",
      "https://www.vpoxod.ru/route/dagestan/avtotur-po-dagestanu#content-top\n",
      "https://www.vpoxod.ru/route/altai/splav_po_reke_charuch#content-top\n",
      "Сложность:участникам с опытом \n",
      "https://www.vpoxod.ru/route/karelia/deti_i_nerpi_dva_nol#content-top\n",
      "https://www.vpoxod.ru/route/ingushetia/ingusetia-deti-i-basni#content-top\n",
      "https://www.vpoxod.ru/route/nepal/Nepal_sun-kosi#content-top\n",
      "Сложность:сложный \n",
      "https://www.vpoxod.ru/route/kolskiy/Splav_po_reke_kutsayoki#content-top\n",
      "https://www.vpoxod.ru/route/India/po-goram-i-monastyryam-ladakha#content-top\n",
      "https://www.vpoxod.ru/route/kamchatka/kamcatka-severnye-kurily-nezabyvaemoe-putesestvie-na-ostrov-paramusir#content-top\n",
      "Сложность:сложный, средняя сложность \n",
      "https://www.vpoxod.ru/route/abkhazia/chadymskij_massiv#content-top\n",
      "https://www.vpoxod.ru/route/krim_routes/480#content-top\n",
      "https://www.vpoxod.ru/route/tanzania/voshozdenie-na-kilimandzaro-marsrut-umbve#content-top\n",
      "Сложность:опыт не обязателен, средняя сложность, участникам с опытом \n",
      "https://www.vpoxod.ru/route/karelia/vincha_splav#content-top\n",
      "https://www.vpoxod.ru/route/altai/splav_po_reke_peschanaya#content-top\n",
      "https://www.vpoxod.ru/route/france/nachalo_alpinisma#content-top\n",
      "Сложность:легкий, опыт не обязателен, участникам с опытом \n",
      "https://www.vpoxod.ru/route/podmoskovje/Ugra_2#content-top\n",
      "https://www.vpoxod.ru/route/podmoskovje/Ugra#content-top\n",
      "https://www.vpoxod.ru/route/france/provans#content-top\n",
      "Сложность:легкий, опыт не обязателен, средняя сложность, участникам с опытом \n",
      "https://www.vpoxod.ru/route/podmoskovje/v_lavru#content-top\n",
      "https://www.vpoxod.ru/route/ural/maevka-na-taganae#content-top\n",
      "Сложность:легкий, средняя сложность, участникам с опытом \n",
      "https://www.vpoxod.ru/route/podmoskovje/meshera_peshkom#content-top\n"
     ]
    }
   ],
   "source": [
    "for level in kp_df.level.value_counts().index:\n",
    "    print(level)\n",
    "    for url in kp_df.query(f'level == \"{level}\"').url[:3]:\n",
    "        print(url)"
   ]
  },
  {
   "cell_type": "code",
   "execution_count": 110,
   "metadata": {},
   "outputs": [],
   "source": [
    "kp_level_map = {\n",
    "     'Сложность:легкий, опыт не обязателен ': 1,\n",
    "     'Сложность:опыт не обязателен, средняя сложность ': 2,\n",
    "     'Сложность:средняя сложность, участникам с опытом ': 3,\n",
    "     'Сложность:средняя сложность ': 3,\n",
    "     'Сложность:легкий ': 1,\n",
    "     'Сложность:опыт не обязателен ': 1,\n",
    "     'Сложность:сложный, средняя сложность, участникам с опытом ': 4,\n",
    "     'Сложность:легкий, опыт не обязателен, средняя сложность ': 2,\n",
    "     'Сложность:легкий, участникам с опытом ': 2,\n",
    "     'Сложность:сложный, участникам с опытом ': 5,\n",
    "     'Сложность:легкий, средняя сложность ': 2,\n",
    "     'Сложность:участникам с опытом ': 3,\n",
    "     'Сложность:сложный ': 4,\n",
    "     'Сложность:сложный, средняя сложность ': 4,\n",
    "     'Сложность:опыт не обязателен, средняя сложность, участникам с опытом ': 2,\n",
    "     'Сложность:легкий, опыт не обязателен, участникам с опытом ': 1,\n",
    "     'Сложность:легкий, опыт не обязателен, средняя сложность, участникам с опытом ': 2,\n",
    "     'Сложность:легкий, средняя сложность, участникам с опытом ': 2\n",
    "}"
   ]
  },
  {
   "cell_type": "code",
   "execution_count": 113,
   "metadata": {},
   "outputs": [
    {
     "data": {
      "text/plain": [
       "1    635\n",
       "2    233\n",
       "3    186\n",
       "4     49\n",
       "0     27\n",
       "5     26\n",
       "Name: level, dtype: int64"
      ]
     },
     "execution_count": 113,
     "metadata": {},
     "output_type": "execute_result"
    }
   ],
   "source": [
    "kp_df['level'].apply(lambda x: kp_level_map.get(x,0)).value_counts()"
   ]
  },
  {
   "cell_type": "code",
   "execution_count": 130,
   "metadata": {},
   "outputs": [
    {
     "data": {
      "text/html": [
       "<div>\n",
       "<style scoped>\n",
       "    .dataframe tbody tr th:only-of-type {\n",
       "        vertical-align: middle;\n",
       "    }\n",
       "\n",
       "    .dataframe tbody tr th {\n",
       "        vertical-align: top;\n",
       "    }\n",
       "\n",
       "    .dataframe thead th {\n",
       "        text-align: right;\n",
       "    }\n",
       "</style>\n",
       "<table border=\"1\" class=\"dataframe\">\n",
       "  <thead>\n",
       "    <tr style=\"text-align: right;\">\n",
       "      <th></th>\n",
       "      <th>type</th>\n",
       "      <th>count</th>\n",
       "    </tr>\n",
       "  </thead>\n",
       "  <tbody>\n",
       "    <tr>\n",
       "      <th>0</th>\n",
       "      <td>23 февраля</td>\n",
       "      <td>3</td>\n",
       "    </tr>\n",
       "    <tr>\n",
       "      <th>1</th>\n",
       "      <td>Вело</td>\n",
       "      <td>69</td>\n",
       "    </tr>\n",
       "  </tbody>\n",
       "</table>\n",
       "</div>"
      ],
      "text/plain": [
       "         type count\n",
       "0  23 февраля     3\n",
       "1        Вело    69"
      ]
     },
     "execution_count": 130,
     "metadata": {},
     "output_type": "execute_result"
    }
   ],
   "source": [
    "kp_type_df = pd.DataFrame(np.unique(kp_df[kp_df.type.notnull()].type.sum(), return_counts=True)).T\n",
    "kp_type_df.columns = ['type','count']\n",
    "kp_type_df.head(2)"
   ]
  },
  {
   "cell_type": "code",
   "execution_count": 132,
   "metadata": {
    "scrolled": false
   },
   "outputs": [
    {
     "data": {
      "text/html": [
       "<div>\n",
       "<style scoped>\n",
       "    .dataframe tbody tr th:only-of-type {\n",
       "        vertical-align: middle;\n",
       "    }\n",
       "\n",
       "    .dataframe tbody tr th {\n",
       "        vertical-align: top;\n",
       "    }\n",
       "\n",
       "    .dataframe thead th {\n",
       "        text-align: right;\n",
       "    }\n",
       "</style>\n",
       "<table border=\"1\" class=\"dataframe\">\n",
       "  <thead>\n",
       "    <tr style=\"text-align: right;\">\n",
       "      <th></th>\n",
       "      <th>type</th>\n",
       "      <th>count</th>\n",
       "    </tr>\n",
       "  </thead>\n",
       "  <tbody>\n",
       "    <tr>\n",
       "      <th>32</th>\n",
       "      <td>Пеший</td>\n",
       "      <td>613</td>\n",
       "    </tr>\n",
       "    <tr>\n",
       "      <th>34</th>\n",
       "      <td>Поход с палатками</td>\n",
       "      <td>530</td>\n",
       "    </tr>\n",
       "    <tr>\n",
       "      <th>4</th>\n",
       "      <td>Выходного дня</td>\n",
       "      <td>417</td>\n",
       "    </tr>\n",
       "    <tr>\n",
       "      <th>29</th>\n",
       "      <td>Переходы налегке</td>\n",
       "      <td>392</td>\n",
       "    </tr>\n",
       "    <tr>\n",
       "      <th>6</th>\n",
       "      <td>Горный</td>\n",
       "      <td>268</td>\n",
       "    </tr>\n",
       "    <tr>\n",
       "      <th>10</th>\n",
       "      <td>Заграничный поход</td>\n",
       "      <td>253</td>\n",
       "    </tr>\n",
       "    <tr>\n",
       "      <th>31</th>\n",
       "      <td>Переходы с рюкзаками</td>\n",
       "      <td>248</td>\n",
       "    </tr>\n",
       "    <tr>\n",
       "      <th>2</th>\n",
       "      <td>Водный</td>\n",
       "      <td>245</td>\n",
       "    </tr>\n",
       "    <tr>\n",
       "      <th>30</th>\n",
       "      <td>Переходы с легкими рюкзаками</td>\n",
       "      <td>187</td>\n",
       "    </tr>\n",
       "    <tr>\n",
       "      <th>19</th>\n",
       "      <td>На байдарках</td>\n",
       "      <td>142</td>\n",
       "    </tr>\n",
       "    <tr>\n",
       "      <th>39</th>\n",
       "      <td>С выходом к морю</td>\n",
       "      <td>142</td>\n",
       "    </tr>\n",
       "    <tr>\n",
       "      <th>27</th>\n",
       "      <td>Однодневные походы</td>\n",
       "      <td>142</td>\n",
       "    </tr>\n",
       "    <tr>\n",
       "      <th>14</th>\n",
       "      <td>Летний</td>\n",
       "      <td>141</td>\n",
       "    </tr>\n",
       "    <tr>\n",
       "      <th>11</th>\n",
       "      <td>Зимний</td>\n",
       "      <td>119</td>\n",
       "    </tr>\n",
       "    <tr>\n",
       "      <th>61</th>\n",
       "      <td>можно взять с собой детей от 7 лет</td>\n",
       "      <td>84</td>\n",
       "    </tr>\n",
       "    <tr>\n",
       "      <th>37</th>\n",
       "      <td>Разведки</td>\n",
       "      <td>80</td>\n",
       "    </tr>\n",
       "    <tr>\n",
       "      <th>43</th>\n",
       "      <td>Сплав</td>\n",
       "      <td>72</td>\n",
       "    </tr>\n",
       "    <tr>\n",
       "      <th>1</th>\n",
       "      <td>Вело</td>\n",
       "      <td>69</td>\n",
       "    </tr>\n",
       "    <tr>\n",
       "      <th>3</th>\n",
       "      <td>Восхождение</td>\n",
       "      <td>51</td>\n",
       "    </tr>\n",
       "    <tr>\n",
       "      <th>15</th>\n",
       "      <td>Лыжный</td>\n",
       "      <td>50</td>\n",
       "    </tr>\n",
       "  </tbody>\n",
       "</table>\n",
       "</div>"
      ],
      "text/plain": [
       "                                  type count\n",
       "32                               Пеший   613\n",
       "34                   Поход с палатками   530\n",
       "4                        Выходного дня   417\n",
       "29                    Переходы налегке   392\n",
       "6                               Горный   268\n",
       "10                   Заграничный поход   253\n",
       "31                Переходы с рюкзаками   248\n",
       "2                               Водный   245\n",
       "30        Переходы с легкими рюкзаками   187\n",
       "19                        На байдарках   142\n",
       "39                    С выходом к морю   142\n",
       "27                  Однодневные походы   142\n",
       "14                              Летний   141\n",
       "11                              Зимний   119\n",
       "61  можно взять с собой детей от 7 лет    84\n",
       "37                            Разведки    80\n",
       "43                               Сплав    72\n",
       "1                                 Вело    69\n",
       "3                          Восхождение    51\n",
       "15                              Лыжный    50"
      ]
     },
     "execution_count": 132,
     "metadata": {},
     "output_type": "execute_result"
    }
   ],
   "source": [
    "kp_type_df.sort_values('count', ascending=False)[:20]"
   ]
  },
  {
   "cell_type": "code",
   "execution_count": 142,
   "metadata": {},
   "outputs": [
    {
     "data": {
      "text/plain": [
       "array(['23 февраля', 'Вело', 'Водный', 'Восхождение', 'Выходного дня',\n",
       "       'Горные лыжи/Сноуборд', 'Горный', 'Горный лагерь', 'Дайвинг',\n",
       "       'Для родителей с детьми', 'Заграничный поход', 'Зимний', 'Конный',\n",
       "       'Краткое описание тега', 'Летний', 'Лыжный', 'Мероприятие',\n",
       "       'Можно с детьми', 'Можно с собакой', 'На байдарках',\n",
       "       'На катамаранах', 'На лодках', 'На морских каяках', 'На пакрафтах',\n",
       "       'На сапсёрфах', 'На снегоступах',\n",
       "       'Ночёвки в тёплом шатре с печкой', 'Однодневные походы',\n",
       "       'Отдых с детьми и от детей :)', 'Переходы налегке',\n",
       "       'Переходы с легкими рюкзаками', 'Переходы с рюкзаками', 'Пеший',\n",
       "       'Поход проводят наши партнёры в регионе', 'Поход с палатками',\n",
       "       'Приготовлением еды занимается повар (либо программа построена так, что участникам не нужно принимать участие в приготовлении еды)',\n",
       "       'Путешествия на 8 марта!', 'Разведки', 'Рыбалка',\n",
       "       'С выходом к морю', 'Скалолазание', 'Слушая тишину', 'Спелео',\n",
       "       'Сплав', 'Спортивные походы', 'Цветочный', 'Январские', 'Яхтинг',\n",
       "       'можно взять с собой детей от 0 лет',\n",
       "       'можно взять с собой детей от 1 года',\n",
       "       'можно взять с собой детей от 10 лет',\n",
       "       'можно взять с собой детей от 12 лет',\n",
       "       'можно взять с собой детей от 13 лет',\n",
       "       'можно взять с собой детей от 14 лет',\n",
       "       'можно взять с собой детей от 15 лет',\n",
       "       'можно взять с собой детей от 16 лет',\n",
       "       'можно взять с собой детей от 17 лет',\n",
       "       'можно взять с собой детей от 3 лет',\n",
       "       'можно взять с собой детей от 4 лет',\n",
       "       'можно взять с собой детей от 5 лет',\n",
       "       'можно взять с собой детей от 6 лет',\n",
       "       'можно взять с собой детей от 7 лет',\n",
       "       'можно взять с собой детей от 8 лет',\n",
       "       'можно взять с собой детей от 9 лет'], dtype=object)"
      ]
     },
     "execution_count": 142,
     "metadata": {},
     "output_type": "execute_result"
    }
   ],
   "source": [
    "kp_type_df.type.unique()"
   ]
  },
  {
   "cell_type": "code",
   "execution_count": 145,
   "metadata": {},
   "outputs": [
    {
     "data": {
      "text/html": [
       "<div>\n",
       "<style scoped>\n",
       "    .dataframe tbody tr th:only-of-type {\n",
       "        vertical-align: middle;\n",
       "    }\n",
       "\n",
       "    .dataframe tbody tr th {\n",
       "        vertical-align: top;\n",
       "    }\n",
       "\n",
       "    .dataframe thead th {\n",
       "        text-align: right;\n",
       "    }\n",
       "</style>\n",
       "<table border=\"1\" class=\"dataframe\">\n",
       "  <thead>\n",
       "    <tr style=\"text-align: right;\">\n",
       "      <th></th>\n",
       "      <th>type</th>\n",
       "      <th>count</th>\n",
       "    </tr>\n",
       "  </thead>\n",
       "  <tbody>\n",
       "    <tr>\n",
       "      <th>48</th>\n",
       "      <td>можно взять с собой детей от 0 лет</td>\n",
       "      <td>33</td>\n",
       "    </tr>\n",
       "    <tr>\n",
       "      <th>49</th>\n",
       "      <td>можно взять с собой детей от 1 года</td>\n",
       "      <td>31</td>\n",
       "    </tr>\n",
       "    <tr>\n",
       "      <th>50</th>\n",
       "      <td>можно взять с собой детей от 10 лет</td>\n",
       "      <td>49</td>\n",
       "    </tr>\n",
       "    <tr>\n",
       "      <th>51</th>\n",
       "      <td>можно взять с собой детей от 12 лет</td>\n",
       "      <td>31</td>\n",
       "    </tr>\n",
       "    <tr>\n",
       "      <th>52</th>\n",
       "      <td>можно взять с собой детей от 13 лет</td>\n",
       "      <td>1</td>\n",
       "    </tr>\n",
       "    <tr>\n",
       "      <th>53</th>\n",
       "      <td>можно взять с собой детей от 14 лет</td>\n",
       "      <td>10</td>\n",
       "    </tr>\n",
       "    <tr>\n",
       "      <th>54</th>\n",
       "      <td>можно взять с собой детей от 15 лет</td>\n",
       "      <td>2</td>\n",
       "    </tr>\n",
       "    <tr>\n",
       "      <th>55</th>\n",
       "      <td>можно взять с собой детей от 16 лет</td>\n",
       "      <td>4</td>\n",
       "    </tr>\n",
       "    <tr>\n",
       "      <th>56</th>\n",
       "      <td>можно взять с собой детей от 17 лет</td>\n",
       "      <td>1</td>\n",
       "    </tr>\n",
       "    <tr>\n",
       "      <th>57</th>\n",
       "      <td>можно взять с собой детей от 3 лет</td>\n",
       "      <td>12</td>\n",
       "    </tr>\n",
       "    <tr>\n",
       "      <th>58</th>\n",
       "      <td>можно взять с собой детей от 4 лет</td>\n",
       "      <td>1</td>\n",
       "    </tr>\n",
       "    <tr>\n",
       "      <th>59</th>\n",
       "      <td>можно взять с собой детей от 5 лет</td>\n",
       "      <td>37</td>\n",
       "    </tr>\n",
       "    <tr>\n",
       "      <th>60</th>\n",
       "      <td>можно взять с собой детей от 6 лет</td>\n",
       "      <td>10</td>\n",
       "    </tr>\n",
       "    <tr>\n",
       "      <th>61</th>\n",
       "      <td>можно взять с собой детей от 7 лет</td>\n",
       "      <td>84</td>\n",
       "    </tr>\n",
       "    <tr>\n",
       "      <th>62</th>\n",
       "      <td>можно взять с собой детей от 8 лет</td>\n",
       "      <td>41</td>\n",
       "    </tr>\n",
       "    <tr>\n",
       "      <th>63</th>\n",
       "      <td>можно взять с собой детей от 9 лет</td>\n",
       "      <td>6</td>\n",
       "    </tr>\n",
       "  </tbody>\n",
       "</table>\n",
       "</div>"
      ],
      "text/plain": [
       "                                   type count\n",
       "48   можно взять с собой детей от 0 лет    33\n",
       "49  можно взять с собой детей от 1 года    31\n",
       "50  можно взять с собой детей от 10 лет    49\n",
       "51  можно взять с собой детей от 12 лет    31\n",
       "52  можно взять с собой детей от 13 лет     1\n",
       "53  можно взять с собой детей от 14 лет    10\n",
       "54  можно взять с собой детей от 15 лет     2\n",
       "55  можно взять с собой детей от 16 лет     4\n",
       "56  можно взять с собой детей от 17 лет     1\n",
       "57   можно взять с собой детей от 3 лет    12\n",
       "58   можно взять с собой детей от 4 лет     1\n",
       "59   можно взять с собой детей от 5 лет    37\n",
       "60   можно взять с собой детей от 6 лет    10\n",
       "61   можно взять с собой детей от 7 лет    84\n",
       "62   можно взять с собой детей от 8 лет    41\n",
       "63   можно взять с собой детей от 9 лет     6"
      ]
     },
     "execution_count": 145,
     "metadata": {},
     "output_type": "execute_result"
    }
   ],
   "source": [
    "kp_type_df[kp_type_df.type.apply(lambda x: 'можно взять с собой детей' in x)]"
   ]
  },
  {
   "cell_type": "markdown",
   "metadata": {},
   "source": [
    "Всего 64 типа, из них 16 про детей, думаю их можно игнорировать, с остальными подумать как интерпретировать"
   ]
  },
  {
   "cell_type": "code",
   "execution_count": 147,
   "metadata": {},
   "outputs": [
    {
     "data": {
      "text/plain": [
       "Участие с детьми: можно взять с собой детей от 14 лет     152\n",
       "Участие с детьми: можно взять с собой детей от 12 лет     150\n",
       "Участие с детьми: можно взять с собой детей от 16 лет     123\n",
       "Участие с детьми: можно взять с собой детей от 7 лет      122\n",
       "Участие с детьми: можно взять с собой детей от 10 лет     111\n",
       "Участие с детьми: можно взять с собой детей от 8 лет       70\n",
       "Участие с детьми: можно взять с собой детей от 5 лет       45\n",
       "Участие с детьми: можно взять с собой детей от 1 года      29\n",
       "Участие с детьми: можно взять с собой детей от 0 лет       29\n",
       "Участие с детьми: можно взять с собой детей от 15 лет      23\n",
       "Участие с детьми: можно взять с собой детей от 6 лет       16\n",
       "Участие с детьми: можно взять с собой детей от 3 лет       12\n",
       "Участие с детьми: можно взять с собой детей от 9 лет       10\n",
       "Участие с детьми: можно взять с собой детей от 17 лет       8\n",
       "Участие с детьми: можно взять с собой детей от 11 лет       4\n",
       "Участие с детьми: можно взять с собой детей от 13 лет       2\n",
       "Участие с детьми: можно взять с собой детей от 4 лет        1\n",
       "Name: is_children, dtype: int64"
      ]
     },
     "execution_count": 147,
     "metadata": {},
     "output_type": "execute_result"
    }
   ],
   "source": [
    "kp_df.is_children.value_counts()"
   ]
  },
  {
   "cell_type": "markdown",
   "metadata": {},
   "source": [
    "Возможно есть смысл проставлять is_children до 14 лет хотя бы"
   ]
  },
  {
   "cell_type": "code",
   "execution_count": 200,
   "metadata": {},
   "outputs": [],
   "source": [
    "str_example = 'Длина: 50 км (радиальные выходы 5-10 км)'"
   ]
  },
  {
   "cell_type": "code",
   "execution_count": 201,
   "metadata": {},
   "outputs": [
    {
     "name": "stdout",
     "output_type": "stream",
     "text": [
      "[('50', '5')]\n",
      "[('50', '5')]\n",
      "['50']\n"
     ]
    }
   ],
   "source": [
    "print(re.findall(r'Длина:[^0-9.]*([0-9]+)[^0-9.]*[\\+и][^0-9.]*([0-9]+)', str_example))\n",
    "print(re.findall(r'Длина:[^0-9.]*([0-9]+)[^0-9.]+([0-9]+)', str_example))\n",
    "print(re.findall(r'Длина:\\s*([0-9]+)', str_example))"
   ]
  },
  {
   "cell_type": "code",
   "execution_count": 213,
   "metadata": {},
   "outputs": [],
   "source": [
    "def parse_distance_kp(x_str):\n",
    "    if x_str is None:\n",
    "        return None\n",
    "    x = x_str.split('(')[0]\n",
    "    sum_of_dists = re.findall(r'Длина:[^0-9.]*([0-9]+)[^0-9.]*[\\+и][^0-9.]*([0-9]+)', x)\n",
    "    average_dists = re.findall(r'Длина:[^0-9.]*([0-9]+)[^0-9.]+([0-9]+)', x)\n",
    "    solo_dist = re.findall(r'Длина:\\s*([0-9]+)', x)\n",
    "    if len(sum_of_dists)>0:\n",
    "        return int(sum_of_dists[0][0]) + int(sum_of_dists[0][1])\n",
    "    elif len(average_dists)>0:\n",
    "        if int(average_dists[0][1]) < int(average_dists[0][0]):\n",
    "            return int(average_dists[0][0])\n",
    "        else:\n",
    "            return (int(average_dists[0][0]) + int(average_dists[0][1]))//2\n",
    "    elif len(solo_dist)>0:\n",
    "        return int(solo_dist[0])\n",
    "    else:\n",
    "        return None"
   ]
  },
  {
   "cell_type": "code",
   "execution_count": 214,
   "metadata": {},
   "outputs": [],
   "source": [
    "kp_df['distance_parsed'] = kp_df.distance.apply(parse_distance_kp)"
   ]
  },
  {
   "cell_type": "code",
   "execution_count": 217,
   "metadata": {},
   "outputs": [
    {
     "data": {
      "image/png": "[encoded data removed]",
      "text/plain": [
       "<Figure size 432x288 with 1 Axes>"
      ]
     },
     "metadata": {
      "needs_background": "light"
     },
     "output_type": "display_data"
    }
   ],
   "source": [
    "kp_df['distance_parsed'].plot.hist(bins=20)\n",
    "plt.show()"
   ]
  },
  {
   "cell_type": "markdown",
   "metadata": {},
   "source": [
    "Скорее всего есть неточности, но вроде нормально распарсил дистанцию"
   ]
  },
  {
   "cell_type": "code",
   "execution_count": 222,
   "metadata": {},
   "outputs": [
    {
     "name": "stdout",
     "output_type": "stream",
     "text": [
      "[]\n",
      "[('5', '7')]\n",
      "['5']\n"
     ]
    }
   ],
   "source": [
    "str_example = 'Длительность: 5-7 дней (без дороги на поезде или самолете)'\n",
    "print(re.findall(r'Длительность:[^0-9.]*([0-9]+)[^0-9.]*[\\+и][^0-9.]*([0-9]+)', str_example))\n",
    "print(re.findall(r'Длительность:[^0-9.]*([0-9]+)[^0-9.]+([0-9]+)', str_example))\n",
    "print(re.findall(r'Длительность:\\s*([0-9]+)', str_example))"
   ]
  },
  {
   "cell_type": "code",
   "execution_count": 229,
   "metadata": {},
   "outputs": [],
   "source": [
    "def parse_duration_kp(x_str):\n",
    "    if x_str is None:\n",
    "        return None\n",
    "    x = x_str.split('(')[0]\n",
    "    sum_of_dur = re.findall(r'Длительность:[^0-9.]*([0-9]+)[^0-9.]*[\\+и][^0-9.]*([0-9]+)', x)\n",
    "    average_dur = re.findall(r'Длительность:[^0-9.]*([0-9]+)[^0-9.]+([0-9]+)', x)\n",
    "    solo_dur = re.findall(r'Длительность:\\s*([0-9]+)', x)\n",
    "    or_dur = re.findall(r'Длительность:[^0-9.]*([0-9]+)[^0-9.]*или[^0-9.]*([0-9]+)', x)\n",
    "    if len(or_dur)>0:\n",
    "        return (int(or_dur[0][0]) + int(or_dur[0][1]))//2\n",
    "    elif len(sum_of_dur)>0:\n",
    "        return int(sum_of_dur[0][0]) + int(sum_of_dur[0][1])\n",
    "    elif len(average_dur)>0:\n",
    "        if int(average_dur[0][1]) < int(average_dur[0][0]):\n",
    "            return int(average_dur[0][0])\n",
    "        else:\n",
    "            return (int(average_dur[0][0]) + int(average_dur[0][1]))//2\n",
    "    elif len(solo_dur)>0:\n",
    "        return int(solo_dur[0])\n",
    "    else:\n",
    "        return None"
   ]
  },
  {
   "cell_type": "code",
   "execution_count": 230,
   "metadata": {},
   "outputs": [],
   "source": [
    "kp_df['duration_parsed'] = kp_df.duration.apply(parse_duration_kp)"
   ]
  },
  {
   "cell_type": "code",
   "execution_count": 233,
   "metadata": {},
   "outputs": [
    {
     "data": {
      "text/html": [
       "<div>\n",
       "<style scoped>\n",
       "    .dataframe tbody tr th:only-of-type {\n",
       "        vertical-align: middle;\n",
       "    }\n",
       "\n",
       "    .dataframe tbody tr th {\n",
       "        vertical-align: top;\n",
       "    }\n",
       "\n",
       "    .dataframe thead th {\n",
       "        text-align: right;\n",
       "    }\n",
       "</style>\n",
       "<table border=\"1\" class=\"dataframe\">\n",
       "  <thead>\n",
       "    <tr style=\"text-align: right;\">\n",
       "      <th></th>\n",
       "      <th>duration</th>\n",
       "      <th>duration_parsed</th>\n",
       "    </tr>\n",
       "  </thead>\n",
       "  <tbody>\n",
       "    <tr>\n",
       "      <th>1154</th>\n",
       "      <td>Длительность: 1 день</td>\n",
       "      <td>1.0</td>\n",
       "    </tr>\n",
       "    <tr>\n",
       "      <th>1155</th>\n",
       "      <td>Длительность: 1 день</td>\n",
       "      <td>1.0</td>\n",
       "    </tr>\n",
       "  </tbody>\n",
       "</table>\n",
       "</div>"
      ],
      "text/plain": [
       "                   duration  duration_parsed\n",
       "1154  Длительность: 1 день               1.0\n",
       "1155  Длительность: 1 день               1.0"
      ]
     },
     "execution_count": 233,
     "metadata": {},
     "output_type": "execute_result"
    }
   ],
   "source": [
    "kp_df[['duration','duration_parsed']].tail(2)"
   ]
  },
  {
   "cell_type": "markdown",
   "metadata": {},
   "source": [
    "Вроде с длительностью тоже разобрались"
   ]
  },
  {
   "cell_type": "code",
   "execution_count": 234,
   "metadata": {},
   "outputs": [
    {
     "data": {
      "text/plain": [
       "Index(['url', 'name', 'region', 'distance', 'duration', 'level', 'type',\n",
       "       'is_children', 'short_desc_len', 'full_desc_len', 'num_images',\n",
       "       'num_guides', 'num_hikes', 'distance_parsed', 'duration_parsed'],\n",
       "      dtype='object')"
      ]
     },
     "execution_count": 234,
     "metadata": {},
     "output_type": "execute_result"
    }
   ],
   "source": [
    "kp_df.columns"
   ]
  },
  {
   "cell_type": "code",
   "execution_count": null,
   "metadata": {},
   "outputs": [],
   "source": []
  },
  {
   "cell_type": "markdown",
   "metadata": {},
   "source": [
    "## Процессинг"
   ]
  },
  {
   "cell_type": "code",
   "execution_count": 114,
   "metadata": {},
   "outputs": [],
   "source": [
    "import hashlib\n",
    "import pandas as pd\n",
    "import datetime\n",
    "import re\n",
    "import numpy as np"
   ]
  },
  {
   "cell_type": "code",
   "execution_count": 48,
   "metadata": {},
   "outputs": [],
   "source": [
    "now = datetime.datetime.now()"
   ]
  },
  {
   "cell_type": "code",
   "execution_count": 53,
   "metadata": {},
   "outputs": [
    {
     "data": {
      "text/plain": [
       "1622402295.305398"
      ]
     },
     "execution_count": 53,
     "metadata": {},
     "output_type": "execute_result"
    }
   ],
   "source": [
    "now.timestamp()"
   ]
  },
  {
   "cell_type": "code",
   "execution_count": 42,
   "metadata": {},
   "outputs": [],
   "source": [
    "source = 'https://turclub-pik.ru'"
   ]
  },
  {
   "cell_type": "code",
   "execution_count": 76,
   "metadata": {},
   "outputs": [],
   "source": [
    "with open('../data/kp_parsed_routes_20210530_0031.txt','r',encoding='utf-8') as f:\n",
    "    kp_routes = f.readlines()\n",
    "\n",
    "kp_routes_evaled = [x for x in map(lambda x: eval(x), kp_routes)]\n",
    "\n",
    "kp_df = pd.DataFrame(columns = ['url','name','region','distance','duration','level','type','is_children',\n",
    "                       'short_description', 'full_description','num_images','num_guides','num_hikes'\n",
    "                       ])\n",
    "\n",
    "for route in kp_routes_evaled:\n",
    "    kp_df.loc[kp_df.shape[0],:] = [\n",
    "        route['url'], route['name'], route['region'],\n",
    "        route['distance'], route['duration'], route['level'],\n",
    "        route['type'], route['is_children'], route['short_description'],\n",
    "        route['full_description'], len(route['images']), len(route['guides']), len(route['hikes'])\n",
    "                                  ]"
   ]
  },
  {
   "cell_type": "code",
   "execution_count": 77,
   "metadata": {},
   "outputs": [],
   "source": [
    "kp_df['id'] = kp_df.url.apply(lambda x: hashlib.md5(x.encode()).hexdigest())"
   ]
  },
  {
   "cell_type": "code",
   "execution_count": 78,
   "metadata": {},
   "outputs": [],
   "source": [
    "assert kp_df.id.value_counts()[0] == 1, 'KP id is not unique!'"
   ]
  },
  {
   "cell_type": "code",
   "execution_count": 79,
   "metadata": {},
   "outputs": [],
   "source": [
    "kp_df['source'] = source"
   ]
  },
  {
   "cell_type": "code",
   "execution_count": 80,
   "metadata": {},
   "outputs": [],
   "source": [
    "kp_df['updatedAt'] = now.timestamp()"
   ]
  },
  {
   "cell_type": "code",
   "execution_count": 81,
   "metadata": {},
   "outputs": [],
   "source": [
    "kp_df['is_children'] = kp_df['is_children'].apply(lambda x: x is not None)"
   ]
  },
  {
   "cell_type": "code",
   "execution_count": 82,
   "metadata": {},
   "outputs": [],
   "source": [
    "def parse_distance_kp(x_str):\n",
    "    if x_str is None:\n",
    "        return None\n",
    "    x = x_str.split('(')[0]\n",
    "    sum_of_dists = re.findall(r'Длина:[^0-9.]*([0-9]+)[^0-9.]*[\\+и][^0-9.]*([0-9]+)', x)\n",
    "    average_dists = re.findall(r'Длина:[^0-9.]*([0-9]+)[^0-9.]+([0-9]+)', x)\n",
    "    solo_dist = re.findall(r'Длина:\\s*([0-9]+)', x)\n",
    "    if len(sum_of_dists)>0:\n",
    "        return int(sum_of_dists[0][0]) + int(sum_of_dists[0][1])\n",
    "    elif len(average_dists)>0:\n",
    "        if int(average_dists[0][1]) < int(average_dists[0][0]):\n",
    "            return int(average_dists[0][0])\n",
    "        else:\n",
    "            return (int(average_dists[0][0]) + int(average_dists[0][1]))//2\n",
    "    elif len(solo_dist)>0:\n",
    "        return int(solo_dist[0])\n",
    "    else:\n",
    "        return None"
   ]
  },
  {
   "cell_type": "code",
   "execution_count": 83,
   "metadata": {},
   "outputs": [],
   "source": [
    "kp_df['distance'] = kp_df['distance'].apply(parse_distance_kp)"
   ]
  },
  {
   "cell_type": "code",
   "execution_count": 84,
   "metadata": {},
   "outputs": [],
   "source": [
    "def parse_duration_kp(x_str):\n",
    "    if x_str is None:\n",
    "        return None\n",
    "    x = x_str.split('(')[0]\n",
    "    sum_of_dur = re.findall(r'Длительность:[^0-9.]*([0-9]+)[^0-9.]*[\\+и][^0-9.]*([0-9]+)', x)\n",
    "    average_dur = re.findall(r'Длительность:[^0-9.]*([0-9]+)[^0-9.]+([0-9]+)', x)\n",
    "    solo_dur = re.findall(r'Длительность:\\s*([0-9]+)', x)\n",
    "    or_dur = re.findall(r'Длительность:[^0-9.]*([0-9]+)[^0-9.]*или[^0-9.]*([0-9]+)', x)\n",
    "    if len(or_dur)>0:\n",
    "        return (int(or_dur[0][0]) + int(or_dur[0][1]))//2\n",
    "    elif len(sum_of_dur)>0:\n",
    "        return int(sum_of_dur[0][0]) + int(sum_of_dur[0][1])\n",
    "    elif len(average_dur)>0:\n",
    "        if int(average_dur[0][1]) < int(average_dur[0][0]):\n",
    "            return int(average_dur[0][0])\n",
    "        else:\n",
    "            return (int(average_dur[0][0]) + int(average_dur[0][1]))//2\n",
    "    elif len(solo_dur)>0:\n",
    "        return int(solo_dur[0])\n",
    "    else:\n",
    "        return None"
   ]
  },
  {
   "cell_type": "code",
   "execution_count": 85,
   "metadata": {},
   "outputs": [],
   "source": [
    "kp_df['duration'] = kp_df['duration'].apply(parse_duration_kp)"
   ]
  },
  {
   "cell_type": "code",
   "execution_count": 86,
   "metadata": {},
   "outputs": [],
   "source": [
    "kp_level_map = {\n",
    "     'Сложность:легкий, опыт не обязателен ': 1,\n",
    "     'Сложность:опыт не обязателен, средняя сложность ': 2,\n",
    "     'Сложность:средняя сложность, участникам с опытом ': 3,\n",
    "     'Сложность:средняя сложность ': 3,\n",
    "     'Сложность:легкий ': 1,\n",
    "     'Сложность:опыт не обязателен ': 1,\n",
    "     'Сложность:сложный, средняя сложность, участникам с опытом ': 4,\n",
    "     'Сложность:легкий, опыт не обязателен, средняя сложность ': 2,\n",
    "     'Сложность:легкий, участникам с опытом ': 2,\n",
    "     'Сложность:сложный, участникам с опытом ': 5,\n",
    "     'Сложность:легкий, средняя сложность ': 2,\n",
    "     'Сложность:участникам с опытом ': 3,\n",
    "     'Сложность:сложный ': 4,\n",
    "     'Сложность:сложный, средняя сложность ': 4,\n",
    "     'Сложность:опыт не обязателен, средняя сложность, участникам с опытом ': 2,\n",
    "     'Сложность:легкий, опыт не обязателен, участникам с опытом ': 1,\n",
    "     'Сложность:легкий, опыт не обязателен, средняя сложность, участникам с опытом ': 2,\n",
    "     'Сложность:легкий, средняя сложность, участникам с опытом ': 2\n",
    "}"
   ]
  },
  {
   "cell_type": "code",
   "execution_count": 87,
   "metadata": {},
   "outputs": [],
   "source": [
    "kp_df['level'] = kp_df['level'].apply(lambda x: kp_level_map.get(x,0))"
   ]
  },
  {
   "cell_type": "code",
   "execution_count": 89,
   "metadata": {},
   "outputs": [],
   "source": [
    "kp_df = kp_df[['distance','duration','id','level','name',\n",
    "               'short_description','source','url','is_children','updatedAt','full_description']]"
   ]
  },
  {
   "cell_type": "code",
   "execution_count": 90,
   "metadata": {},
   "outputs": [
    {
     "data": {
      "text/plain": [
       "distance                                                           110\n",
       "duration                                                             7\n",
       "id                                    adb11f7674a6965484733c68709b66f8\n",
       "level                                                                1\n",
       "name                                                 Сплав по реке Шуя\n",
       "short_description    Самая щедрая и гостеприимная река Карелии это ...\n",
       "source                                          https://turclub-pik.ru\n",
       "url                  https://www.vpoxod.ru/route/karelia/shuya#cont...\n",
       "is_children                                                       True\n",
       "updatedAt                                                   1.6224e+09\n",
       "full_description     <div class=\"route_description\"><div class=\"rou...\n",
       "Name: 0, dtype: object"
      ]
     },
     "execution_count": 90,
     "metadata": {},
     "output_type": "execute_result"
    }
   ],
   "source": [
    "kp_df.loc[0,:]"
   ]
  },
  {
   "cell_type": "code",
   "execution_count": 92,
   "metadata": {},
   "outputs": [],
   "source": [
    "import psycopg2"
   ]
  },
  {
   "cell_type": "code",
   "execution_count": 94,
   "metadata": {},
   "outputs": [],
   "source": [
    "conn = psycopg2.connect(\"host=localhost dbname=pohodi user=postgres password=123456789\")"
   ]
  },
  {
   "cell_type": "code",
   "execution_count": 95,
   "metadata": {},
   "outputs": [],
   "source": [
    "cur = conn.cursor()"
   ]
  },
  {
   "cell_type": "code",
   "execution_count": 108,
   "metadata": {},
   "outputs": [],
   "source": [
    "kp_df['level'] = kp_df.level.astype('int')"
   ]
  },
  {
   "cell_type": "code",
   "execution_count": 112,
   "metadata": {},
   "outputs": [
    {
     "data": {
      "text/plain": [
       "distance             float64\n",
       "duration             float64\n",
       "id                    object\n",
       "level                  int32\n",
       "name                  object\n",
       "short_description     object\n",
       "source                object\n",
       "url                   object\n",
       "is_children             bool\n",
       "updatedAt            float64\n",
       "full_description      object\n",
       "dtype: object"
      ]
     },
     "execution_count": 112,
     "metadata": {},
     "output_type": "execute_result"
    }
   ],
   "source": [
    "kp_df.dtypes"
   ]
  },
  {
   "cell_type": "code",
   "execution_count": 121,
   "metadata": {},
   "outputs": [],
   "source": [
    "insert_query = \"INSERT INTO routes VALUES (%s, %s, %s, %s, %s, %s, %s, %s, %s, %s, %s)\", tuple(kp_df.loc[0,:])"
   ]
  },
  {
   "cell_type": "code",
   "execution_count": 123,
   "metadata": {},
   "outputs": [],
   "source": [
    "psycopg2.extensions.register_adapter(np.int64, psycopg2._psycopg.AsIs)\n",
    "psycopg2.extensions.register_adapter(np.int32, psycopg2._psycopg.AsIs)\n",
    "psycopg2.extensions.register_adapter(np.bool_, psycopg2._psycopg.AsIs)"
   ]
  },
  {
   "cell_type": "code",
   "execution_count": 131,
   "metadata": {},
   "outputs": [
    {
     "ename": "InFailedSqlTransaction",
     "evalue": "ОШИБКА:  текущая транзакция прервана, команды до конца блока транзакции игнорируются\n",
     "output_type": "error",
     "traceback": [
      "\u001b[1;31m---------------------------------------------------------------------------\u001b[0m",
      "\u001b[1;31mInFailedSqlTransaction\u001b[0m                    Traceback (most recent call last)",
      "\u001b[1;32m<ipython-input-131-d93d7a379fa2>\u001b[0m in \u001b[0;36m<module>\u001b[1;34m\u001b[0m\n\u001b[0;32m      1\u001b[0m \u001b[1;31m# cur.execute(insert_query[0],insert_query[1])\u001b[0m\u001b[1;33m\u001b[0m\u001b[1;33m\u001b[0m\u001b[1;33m\u001b[0m\u001b[0m\n\u001b[0;32m      2\u001b[0m cur.execute(\"INSERT INTO routes VALUES (%s, %s, %s, %s, %s, %s, %s, %s, %s, %s, %s)\", \n\u001b[1;32m----> 3\u001b[1;33m             (3,1,'asfd',2,'top','asf','opt','url',True, now.timestamp(),'asd'))\n\u001b[0m\u001b[0;32m      4\u001b[0m \u001b[0mconn\u001b[0m\u001b[1;33m.\u001b[0m\u001b[0mcommit\u001b[0m\u001b[1;33m(\u001b[0m\u001b[1;33m)\u001b[0m\u001b[1;33m\u001b[0m\u001b[1;33m\u001b[0m\u001b[0m\n",
      "\u001b[1;31mInFailedSqlTransaction\u001b[0m: ОШИБКА:  текущая транзакция прервана, команды до конца блока транзакции игнорируются\n"
     ]
    }
   ],
   "source": [
    "# cur.execute(insert_query[0],insert_query[1])\n",
    "cur.execute(\"INSERT INTO routes VALUES (%s, %s, %s, %s, %s, %s, %s, %s, %s, %s, %s)\", \n",
    "            (3,1,'asfd',2,'top','asf','opt','url',True, now.timestamp(),'asd'))\n",
    "conn.commit()"
   ]
  },
  {
   "cell_type": "code",
   "execution_count": null,
   "metadata": {},
   "outputs": [],
   "source": []
  },
  {
   "cell_type": "code",
   "execution_count": null,
   "metadata": {},
   "outputs": [],
   "source": []
  },
  {
   "cell_type": "code",
   "execution_count": null,
   "metadata": {},
   "outputs": [],
   "source": []
  },
  {
   "cell_type": "code",
   "execution_count": 75,
   "metadata": {},
   "outputs": [
    {
     "data": {
      "text/html": [
       "<div>\n",
       "<style scoped>\n",
       "    .dataframe tbody tr th:only-of-type {\n",
       "        vertical-align: middle;\n",
       "    }\n",
       "\n",
       "    .dataframe tbody tr th {\n",
       "        vertical-align: top;\n",
       "    }\n",
       "\n",
       "    .dataframe thead th {\n",
       "        text-align: right;\n",
       "    }\n",
       "</style>\n",
       "<table border=\"1\" class=\"dataframe\">\n",
       "  <thead>\n",
       "    <tr style=\"text-align: right;\">\n",
       "      <th></th>\n",
       "      <th>url</th>\n",
       "      <th>name</th>\n",
       "      <th>region</th>\n",
       "      <th>distance</th>\n",
       "      <th>duration</th>\n",
       "      <th>level</th>\n",
       "      <th>type</th>\n",
       "      <th>is_children</th>\n",
       "      <th>short_desc_len</th>\n",
       "      <th>full_desc_len</th>\n",
       "      <th>num_images</th>\n",
       "      <th>num_guides</th>\n",
       "      <th>num_hikes</th>\n",
       "      <th>id</th>\n",
       "      <th>source</th>\n",
       "      <th>updatedAt</th>\n",
       "    </tr>\n",
       "  </thead>\n",
       "  <tbody>\n",
       "    <tr>\n",
       "      <th>0</th>\n",
       "      <td>https://www.vpoxod.ru/route/karelia/shuya#cont...</td>\n",
       "      <td>Сплав по реке Шуя</td>\n",
       "      <td>Регион:Карелия (все походы в этом регионе)</td>\n",
       "      <td>110.0</td>\n",
       "      <td>7.0</td>\n",
       "      <td>1</td>\n",
       "      <td>[Поход с палатками, Водный, Сплав, На катамара...</td>\n",
       "      <td>True</td>\n",
       "      <td>958</td>\n",
       "      <td>20447</td>\n",
       "      <td>45</td>\n",
       "      <td>5</td>\n",
       "      <td>15</td>\n",
       "      <td>adb11f7674a6965484733c68709b66f8</td>\n",
       "      <td>https://turclub-pik.ru</td>\n",
       "      <td>1.622402e+09</td>\n",
       "    </tr>\n",
       "    <tr>\n",
       "      <th>1</th>\n",
       "      <td>https://www.vpoxod.ru/route/karelia/keret#cont...</td>\n",
       "      <td>Сплав по реке Кереть и Белое море в Карелии</td>\n",
       "      <td>Регион:Карелия (все походы в этом регионе)</td>\n",
       "      <td>130.0</td>\n",
       "      <td>15.0</td>\n",
       "      <td>1</td>\n",
       "      <td>[Поход с палатками, Водный, Сплав, На катамара...</td>\n",
       "      <td>True</td>\n",
       "      <td>1349</td>\n",
       "      <td>24112</td>\n",
       "      <td>56</td>\n",
       "      <td>4</td>\n",
       "      <td>12</td>\n",
       "      <td>27a6034193c0347050722ea1247256e3</td>\n",
       "      <td>https://turclub-pik.ru</td>\n",
       "      <td>1.622402e+09</td>\n",
       "    </tr>\n",
       "    <tr>\n",
       "      <th>2</th>\n",
       "      <td>https://www.vpoxod.ru/route/karelia/pistaioki_...</td>\n",
       "      <td>Сплав по реке Пистайоки (Писта)</td>\n",
       "      <td>Регион:Карелия (все походы в этом регионе)</td>\n",
       "      <td>198.0</td>\n",
       "      <td>15.0</td>\n",
       "      <td>2</td>\n",
       "      <td>[Поход с палатками, Водный, Сплав, На катамара...</td>\n",
       "      <td>True</td>\n",
       "      <td>969</td>\n",
       "      <td>19642</td>\n",
       "      <td>44</td>\n",
       "      <td>7</td>\n",
       "      <td>21</td>\n",
       "      <td>65466f03403530c01932fe8371edabb0</td>\n",
       "      <td>https://turclub-pik.ru</td>\n",
       "      <td>1.622402e+09</td>\n",
       "    </tr>\n",
       "    <tr>\n",
       "      <th>3</th>\n",
       "      <td>https://www.vpoxod.ru/route/kolskiy/umba#conte...</td>\n",
       "      <td>Сплав по реке Умба (с выходом в Белое море)</td>\n",
       "      <td>Регион:Кольский (все походы в этом регионе)</td>\n",
       "      <td>150.0</td>\n",
       "      <td>17.0</td>\n",
       "      <td>2</td>\n",
       "      <td>[Поход с палатками, Водный, Сплав, На катамара...</td>\n",
       "      <td>True</td>\n",
       "      <td>1402</td>\n",
       "      <td>30705</td>\n",
       "      <td>44</td>\n",
       "      <td>8</td>\n",
       "      <td>15</td>\n",
       "      <td>776e0db242276a2d03383e159396f45a</td>\n",
       "      <td>https://turclub-pik.ru</td>\n",
       "      <td>1.622402e+09</td>\n",
       "    </tr>\n",
       "    <tr>\n",
       "      <th>4</th>\n",
       "      <td>https://www.vpoxod.ru/route/siberia/putorana_k...</td>\n",
       "      <td>Горы и водопады Плато Путорана, комфортный тур...</td>\n",
       "      <td>Регион:Сибирь (все походы в этом регионе)</td>\n",
       "      <td>130.0</td>\n",
       "      <td>10.0</td>\n",
       "      <td>2</td>\n",
       "      <td>[Пеший, Водный, На байдарках]</td>\n",
       "      <td>True</td>\n",
       "      <td>2733</td>\n",
       "      <td>16204</td>\n",
       "      <td>33</td>\n",
       "      <td>3</td>\n",
       "      <td>7</td>\n",
       "      <td>dc1718f924a0cb753ac4575de79acab6</td>\n",
       "      <td>https://turclub-pik.ru</td>\n",
       "      <td>1.622402e+09</td>\n",
       "    </tr>\n",
       "    <tr>\n",
       "      <th>...</th>\n",
       "      <td>...</td>\n",
       "      <td>...</td>\n",
       "      <td>...</td>\n",
       "      <td>...</td>\n",
       "      <td>...</td>\n",
       "      <td>...</td>\n",
       "      <td>...</td>\n",
       "      <td>...</td>\n",
       "      <td>...</td>\n",
       "      <td>...</td>\n",
       "      <td>...</td>\n",
       "      <td>...</td>\n",
       "      <td>...</td>\n",
       "      <td>...</td>\n",
       "      <td>...</td>\n",
       "      <td>...</td>\n",
       "    </tr>\n",
       "    <tr>\n",
       "      <th>1151</th>\n",
       "      <td>https://www.vpoxod.ru/route/altai/kraj-velikih...</td>\n",
       "      <td>Край великих озёр</td>\n",
       "      <td>Регион:Алтай (все походы в этом регионе)</td>\n",
       "      <td>180.0</td>\n",
       "      <td>14.0</td>\n",
       "      <td>5</td>\n",
       "      <td>[Поход с палатками, Пеший, Горный, Переходы с ...</td>\n",
       "      <td>False</td>\n",
       "      <td>596</td>\n",
       "      <td>10371</td>\n",
       "      <td>15</td>\n",
       "      <td>0</td>\n",
       "      <td>0</td>\n",
       "      <td>2ef9669cbdc4b027bbf3f3a18774d22b</td>\n",
       "      <td>https://turclub-pik.ru</td>\n",
       "      <td>1.622402e+09</td>\n",
       "    </tr>\n",
       "    <tr>\n",
       "      <th>1152</th>\n",
       "      <td>https://www.vpoxod.ru/route/caucasus/ot-cernog...</td>\n",
       "      <td>От Чёрного до Каспийского моря</td>\n",
       "      <td>Регион:Кавказ (все походы в этом регионе)</td>\n",
       "      <td>1200.0</td>\n",
       "      <td>14.0</td>\n",
       "      <td>1</td>\n",
       "      <td>[Переходы налегке]</td>\n",
       "      <td>False</td>\n",
       "      <td>787</td>\n",
       "      <td>20476</td>\n",
       "      <td>0</td>\n",
       "      <td>0</td>\n",
       "      <td>0</td>\n",
       "      <td>61b3b779d1ddd42a15298f0e4f5d62db</td>\n",
       "      <td>https://turclub-pik.ru</td>\n",
       "      <td>1.622402e+09</td>\n",
       "    </tr>\n",
       "    <tr>\n",
       "      <th>1153</th>\n",
       "      <td>https://www.vpoxod.ru/route/caucasus/gora-lysa...</td>\n",
       "      <td>Гора Лысая. Поход к истокам реки Псекупс!</td>\n",
       "      <td>Регион:Кавказ (все походы в этом регионе)</td>\n",
       "      <td>24.0</td>\n",
       "      <td>2.0</td>\n",
       "      <td>2</td>\n",
       "      <td>[Поход с палатками, Переходы с рюкзаками]</td>\n",
       "      <td>False</td>\n",
       "      <td>720</td>\n",
       "      <td>8140</td>\n",
       "      <td>9</td>\n",
       "      <td>0</td>\n",
       "      <td>0</td>\n",
       "      <td>97210f9fd5206212d5d028588ad257d2</td>\n",
       "      <td>https://turclub-pik.ru</td>\n",
       "      <td>1.622402e+09</td>\n",
       "    </tr>\n",
       "    <tr>\n",
       "      <th>1154</th>\n",
       "      <td>https://www.vpoxod.ru/route/karelia/operacia-n...</td>\n",
       "      <td>Операция \"нерпочка\"</td>\n",
       "      <td>Регион:Карелия (все походы в этом регионе)</td>\n",
       "      <td>5.0</td>\n",
       "      <td>1.0</td>\n",
       "      <td>1</td>\n",
       "      <td>[Выходного дня, Однодневные походы]</td>\n",
       "      <td>True</td>\n",
       "      <td>417</td>\n",
       "      <td>3968</td>\n",
       "      <td>7</td>\n",
       "      <td>1</td>\n",
       "      <td>0</td>\n",
       "      <td>ab05a4216c03aa3cea504800eab84e15</td>\n",
       "      <td>https://turclub-pik.ru</td>\n",
       "      <td>1.622402e+09</td>\n",
       "    </tr>\n",
       "    <tr>\n",
       "      <th>1155</th>\n",
       "      <td>https://www.vpoxod.ru/route/nw/sybbotnik#conte...</td>\n",
       "      <td>Субботник в Малом Лужском каньоне</td>\n",
       "      <td>Регион:Сев-Запад (все походы в этом регионе)</td>\n",
       "      <td>15.0</td>\n",
       "      <td>1.0</td>\n",
       "      <td>1</td>\n",
       "      <td>[Пеший, Переходы налегке, Выходного дня, Однод...</td>\n",
       "      <td>True</td>\n",
       "      <td>632</td>\n",
       "      <td>4658</td>\n",
       "      <td>12</td>\n",
       "      <td>0</td>\n",
       "      <td>0</td>\n",
       "      <td>166a92342b9c5d7e06b420d6365b353a</td>\n",
       "      <td>https://turclub-pik.ru</td>\n",
       "      <td>1.622402e+09</td>\n",
       "    </tr>\n",
       "  </tbody>\n",
       "</table>\n",
       "<p>1156 rows × 16 columns</p>\n",
       "</div>"
      ],
      "text/plain": [
       "                                                    url  \\\n",
       "0     https://www.vpoxod.ru/route/karelia/shuya#cont...   \n",
       "1     https://www.vpoxod.ru/route/karelia/keret#cont...   \n",
       "2     https://www.vpoxod.ru/route/karelia/pistaioki_...   \n",
       "3     https://www.vpoxod.ru/route/kolskiy/umba#conte...   \n",
       "4     https://www.vpoxod.ru/route/siberia/putorana_k...   \n",
       "...                                                 ...   \n",
       "1151  https://www.vpoxod.ru/route/altai/kraj-velikih...   \n",
       "1152  https://www.vpoxod.ru/route/caucasus/ot-cernog...   \n",
       "1153  https://www.vpoxod.ru/route/caucasus/gora-lysa...   \n",
       "1154  https://www.vpoxod.ru/route/karelia/operacia-n...   \n",
       "1155  https://www.vpoxod.ru/route/nw/sybbotnik#conte...   \n",
       "\n",
       "                                                   name  \\\n",
       "0                                     Сплав по реке Шуя   \n",
       "1           Сплав по реке Кереть и Белое море в Карелии   \n",
       "2                       Сплав по реке Пистайоки (Писта)   \n",
       "3           Сплав по реке Умба (с выходом в Белое море)   \n",
       "4     Горы и водопады Плато Путорана, комфортный тур...   \n",
       "...                                                 ...   \n",
       "1151                                  Край великих озёр   \n",
       "1152                     От Чёрного до Каспийского моря   \n",
       "1153          Гора Лысая. Поход к истокам реки Псекупс!   \n",
       "1154                                Операция \"нерпочка\"   \n",
       "1155                 Субботник в Малом Лужском каньоне    \n",
       "\n",
       "                                            region  distance  duration  level  \\\n",
       "0       Регион:Карелия (все походы в этом регионе)     110.0       7.0      1   \n",
       "1       Регион:Карелия (все походы в этом регионе)     130.0      15.0      1   \n",
       "2       Регион:Карелия (все походы в этом регионе)     198.0      15.0      2   \n",
       "3      Регион:Кольский (все походы в этом регионе)     150.0      17.0      2   \n",
       "4        Регион:Сибирь (все походы в этом регионе)     130.0      10.0      2   \n",
       "...                                            ...       ...       ...    ...   \n",
       "1151      Регион:Алтай (все походы в этом регионе)     180.0      14.0      5   \n",
       "1152     Регион:Кавказ (все походы в этом регионе)    1200.0      14.0      1   \n",
       "1153     Регион:Кавказ (все походы в этом регионе)      24.0       2.0      2   \n",
       "1154    Регион:Карелия (все походы в этом регионе)       5.0       1.0      1   \n",
       "1155  Регион:Сев-Запад (все походы в этом регионе)      15.0       1.0      1   \n",
       "\n",
       "                                                   type  is_children  \\\n",
       "0     [Поход с палатками, Водный, Сплав, На катамара...         True   \n",
       "1     [Поход с палатками, Водный, Сплав, На катамара...         True   \n",
       "2     [Поход с палатками, Водный, Сплав, На катамара...         True   \n",
       "3     [Поход с палатками, Водный, Сплав, На катамара...         True   \n",
       "4                         [Пеший, Водный, На байдарках]         True   \n",
       "...                                                 ...          ...   \n",
       "1151  [Поход с палатками, Пеший, Горный, Переходы с ...        False   \n",
       "1152                                 [Переходы налегке]        False   \n",
       "1153          [Поход с палатками, Переходы с рюкзаками]        False   \n",
       "1154                [Выходного дня, Однодневные походы]         True   \n",
       "1155  [Пеший, Переходы налегке, Выходного дня, Однод...         True   \n",
       "\n",
       "     short_desc_len full_desc_len num_images num_guides num_hikes  \\\n",
       "0               958         20447         45          5        15   \n",
       "1              1349         24112         56          4        12   \n",
       "2               969         19642         44          7        21   \n",
       "3              1402         30705         44          8        15   \n",
       "4              2733         16204         33          3         7   \n",
       "...             ...           ...        ...        ...       ...   \n",
       "1151            596         10371         15          0         0   \n",
       "1152            787         20476          0          0         0   \n",
       "1153            720          8140          9          0         0   \n",
       "1154            417          3968          7          1         0   \n",
       "1155            632          4658         12          0         0   \n",
       "\n",
       "                                    id                  source     updatedAt  \n",
       "0     adb11f7674a6965484733c68709b66f8  https://turclub-pik.ru  1.622402e+09  \n",
       "1     27a6034193c0347050722ea1247256e3  https://turclub-pik.ru  1.622402e+09  \n",
       "2     65466f03403530c01932fe8371edabb0  https://turclub-pik.ru  1.622402e+09  \n",
       "3     776e0db242276a2d03383e159396f45a  https://turclub-pik.ru  1.622402e+09  \n",
       "4     dc1718f924a0cb753ac4575de79acab6  https://turclub-pik.ru  1.622402e+09  \n",
       "...                                ...                     ...           ...  \n",
       "1151  2ef9669cbdc4b027bbf3f3a18774d22b  https://turclub-pik.ru  1.622402e+09  \n",
       "1152  61b3b779d1ddd42a15298f0e4f5d62db  https://turclub-pik.ru  1.622402e+09  \n",
       "1153  97210f9fd5206212d5d028588ad257d2  https://turclub-pik.ru  1.622402e+09  \n",
       "1154  ab05a4216c03aa3cea504800eab84e15  https://turclub-pik.ru  1.622402e+09  \n",
       "1155  166a92342b9c5d7e06b420d6365b353a  https://turclub-pik.ru  1.622402e+09  \n",
       "\n",
       "[1156 rows x 16 columns]"
      ]
     },
     "execution_count": 75,
     "metadata": {},
     "output_type": "execute_result"
    }
   ],
   "source": [
    "kp_df"
   ]
  },
  {
   "cell_type": "code",
   "execution_count": 29,
   "metadata": {},
   "outputs": [
    {
     "data": {
      "text/plain": [
       "'ff1ccf57e98c817df1efcd9fe44a8aeb'"
      ]
     },
     "execution_count": 29,
     "metadata": {},
     "output_type": "execute_result"
    }
   ],
   "source": [
    "temp.hexdigest()"
   ]
  },
  {
   "cell_type": "code",
   "execution_count": null,
   "metadata": {},
   "outputs": [],
   "source": [
    "kp_df[['']]"
   ]
  }
 ],
 "metadata": {
  "kernelspec": {
   "display_name": "Python 3",
   "language": "python",
   "name": "python3"
  },
  "language_info": {
   "codemirror_mode": {
    "name": "ipython",
    "version": 3
   },
   "file_extension": ".py",
   "mimetype": "text/x-python",
   "name": "python",
   "nbconvert_exporter": "python",
   "pygments_lexer": "ipython3",
   "version": "3.7.6"
  }
 },
 "nbformat": 4,
 "nbformat_minor": 4
}

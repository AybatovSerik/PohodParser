{
 "cells": [
  {
   "cell_type": "code",
   "execution_count": 1,
   "metadata": {},
   "outputs": [
    {
     "data": {
      "text/plain": [
       "<module 'Classes' from 'C:\\\\Users\\\\capse\\\\IdeaProjects\\\\PohodParser\\\\Classes\\\\__init__.py'>"
      ]
     },
     "execution_count": 1,
     "metadata": {},
     "output_type": "execute_result"
    }
   ],
   "source": [
    "import importlib\n",
    "\n",
    "import requests\n",
    "from bs4 import BeautifulSoup\n",
    "import re\n",
    "# from Classes.RouteClass import Route\n",
    "# from Classes.RouteClassKP import RouteKN\n",
    "# from Classes.GuideClass import Guide\n",
    "import json\n",
    "import Classes\n",
    "importlib.reload(Classes)"
   ]
  },
  {
   "cell_type": "code",
   "execution_count": 2,
   "metadata": {},
   "outputs": [],
   "source": [
    "session = requests.session()"
   ]
  },
  {
   "cell_type": "code",
   "execution_count": 3,
   "metadata": {},
   "outputs": [],
   "source": [
    "headers = {\n",
    "    'authority': 'www.kith.com',\n",
    "    'cache-control': 'max-age=0',\n",
    "    'upgrade-insecure-requests': '1',\n",
    "    'user-agent': 'Mozilla/5.0 (Windows NT 10.0; Win64; x64) AppleWebKit/537.36 (KHTML, like Gecko) Chrome/80.0.3987.106 Safari/537.36',\n",
    "    'sec-fetch-dest': 'document',\n",
    "    'accept': 'text/html,application/xhtml+xml,application/xml;q=0.9,image/webp,image/apng,*/*;q=0.8,application/signed-exchange;v=b3;q=0.9',\n",
    "    'sec-fetch-site': 'same-origin',\n",
    "    'sec-fetch-mode': 'navigate',\n",
    "    'sec-fetch-user': '?1',\n",
    "    'accept-language': 'en-US,en;q=0.9',\n",
    "}"
   ]
  },
  {
   "cell_type": "markdown",
   "metadata": {},
   "source": [
    "## Вытащил последнюю страницу"
   ]
  },
  {
   "cell_type": "code",
   "execution_count": 6,
   "metadata": {},
   "outputs": [],
   "source": [
    "start_url = \"https://www.vpoxod.ru/route?per-page=48&page=500\"\n",
    "start_response = session.get(start_url, headers=headers)\n",
    "start_response.status_code\n",
    "start_soup = BeautifulSoup(start_response.text, 'html.parser')\n",
    "last_page_num = int(start_soup.find(attrs={'class':'pagination'}).find(attrs={'class':'active disabled'}).text)"
   ]
  },
  {
   "cell_type": "markdown",
   "metadata": {},
   "source": [
    "## Работаем со страницами"
   ]
  },
  {
   "cell_type": "code",
   "execution_count": 27,
   "metadata": {},
   "outputs": [],
   "source": [
    "route_url = \"https://www.vpoxod.ru\""
   ]
  },
  {
   "cell_type": "code",
   "execution_count": 28,
   "metadata": {},
   "outputs": [],
   "source": [
    "page_url = \"https://www.vpoxod.ru/route?per-page=48&page=1\"\n",
    "page_response = session.get(page_url, headers=headers)"
   ]
  },
  {
   "cell_type": "code",
   "execution_count": 29,
   "metadata": {},
   "outputs": [
    {
     "data": {
      "text/plain": [
       "200"
      ]
     },
     "execution_count": 29,
     "metadata": {},
     "output_type": "execute_result"
    }
   ],
   "source": [
    "page_response.status_code"
   ]
  },
  {
   "cell_type": "code",
   "execution_count": 30,
   "metadata": {},
   "outputs": [],
   "source": [
    "page_soup = BeautifulSoup(page_response.text,'html.parser')"
   ]
  },
  {
   "cell_type": "code",
   "execution_count": 31,
   "metadata": {},
   "outputs": [],
   "source": [
    "hike_list = page_soup.find_all(attrs={'class':'main_page_hike_title'})\n",
    "hike_list_urls = [(route_url+route.find()['href']) for route in hike_list]"
   ]
  },
  {
   "cell_type": "code",
   "execution_count": 34,
   "metadata": {},
   "outputs": [
    {
     "data": {
      "text/plain": [
       "96"
      ]
     },
     "execution_count": 34,
     "metadata": {},
     "output_type": "execute_result"
    }
   ],
   "source": [
    "hike_list_urls + hike_list_urls"
   ]
  },
  {
   "cell_type": "markdown",
   "metadata": {},
   "source": [
    "## Работаем с походом "
   ]
  },
  {
   "cell_type": "code",
   "execution_count": 4,
   "metadata": {},
   "outputs": [
    {
     "name": "stdout",
     "output_type": "stream",
     "text": [
      "https://www.vpoxod.ru/route/podmoskovje/velo_Tanki#content-top\n"
     ]
    }
   ],
   "source": [
    "# route_page = hike_list_urls[8]\n",
    "route_page = 'https://www.vpoxod.ru/route/podmoskovje/velo_Tanki#content-top'\n",
    "print(route_page)"
   ]
  },
  {
   "cell_type": "code",
   "execution_count": 5,
   "metadata": {},
   "outputs": [],
   "source": [
    "route_object = Classes.RouteClassKP.RouteKP()"
   ]
  },
  {
   "cell_type": "code",
   "execution_count": 6,
   "metadata": {},
   "outputs": [
    {
     "name": "stdout",
     "output_type": "stream",
     "text": [
      "https://www.vpoxod.ru/route/podmoskovje/velo_Tanki#content-top - problem in parse_level\n"
     ]
    }
   ],
   "source": [
    "route_object.parse_page(route_page, session,headers)"
   ]
  },
  {
   "cell_type": "code",
   "execution_count": 7,
   "metadata": {},
   "outputs": [
    {
     "data": {
      "text/plain": [
       "{'url': 'https://www.vpoxod.ru/route/podmoskovje/velo_Tanki#content-top',\n",
       " 'name': 'Велопоход- Бронетанковый музей в Кубинке-Подмосковье',\n",
       " 'region': 'Регион:Подмосковье (все походы в этом регионе)',\n",
       " 'track': 'Нитка:Ж/Д Станция Звенигород – Звенигород –Саввино-Сторожевский монастырь–Обед на р. Сетунь. - Старый городок – Танковый Музей в Кубинке.',\n",
       " 'distance': 'Длина: 45 км ',\n",
       " 'level': None,\n",
       " 'type': ['Вело',\n",
       "  'Переходы с легкими рюкзаками',\n",
       "  'Выходного дня',\n",
       "  'Однодневные походы'],\n",
       " 'duration': 'Длительность: 1 день ',\n",
       " 'group_size': 'Размер группы: от 5 человек до 23 человек ',\n",
       " 'is_children': 'Участие с детьми: можно взять с собой детей от 12 лет ',\n",
       " 'short_description': 'Приглашаем совершить однодневную Экскурсионную велопоездку от ст. Звенигород до Кубинки с посещением танкового музея и Саввино-Сторожевского монастыря. Маршрут проходит по живописным местам Подмосковья.',\n",
       " 'full_description': None,\n",
       " 'price': None,\n",
       " 'images': [],\n",
       " 'guides': [{'name': 'Анна',\n",
       "   'img': ['https://b1.vpoxod.ru/coordinator/86/c2/162235_87x87.jpg'],\n",
       "   'phone': None,\n",
       "   'email': None,\n",
       "   'url': None},\n",
       "  {'name': 'Александр',\n",
       "   'img': ['https://b1.vpoxod.ru/instructor/2d/9e/57166_87x87.jpg'],\n",
       "   'phone': None,\n",
       "   'email': None,\n",
       "   'url': 'https://www.vpoxod.ru/instructor/aleksandr-kamyshov#content-top'}]}"
      ]
     },
     "execution_count": 7,
     "metadata": {},
     "output_type": "execute_result"
    }
   ],
   "source": [
    "route_object.to_json()"
   ]
  },
  {
   "cell_type": "code",
   "execution_count": 13,
   "metadata": {},
   "outputs": [],
   "source": [
    "route_object.guides[0].to_json()"
   ]
  },
  {
   "cell_type": "code",
   "execution_count": 8,
   "metadata": {},
   "outputs": [
    {
     "name": "stdout",
     "output_type": "stream",
     "text": [
      "https://www.vpoxod.ru/route/podmoskovje/velo_Tanki#content-top - problem in parse_guides\n"
     ]
    }
   ],
   "source": [
    "route_object.parse_guides()"
   ]
  },
  {
   "cell_type": "code",
   "execution_count": 12,
   "metadata": {},
   "outputs": [],
   "source": [
    "def parse_guides_temp(self):\n",
    "        guides_list = self.soup.find_all(attrs={'class': re.compile(r'^route_coordinator$')})\n",
    "        guide_object_list = []\n",
    "        for guide_soup in guides_list:\n",
    "            guide = Classes.GuideClass.Guide()\n",
    "            guide.img = [guide_soup.find(attrs={'class': 'route_coordinator_left'}).find('img').attrs['src']]\n",
    "            guide.name = guide_soup.find(attrs={'class': 'route_coordinator_name'}).text\n",
    "            guide.url = guide_soup.find(attrs={'class':'route_coordinator_name'}).get('href')\n",
    "            if guide.url:\n",
    "                guide.url = self.root_url + guide.url\n",
    "            guide_object_list.append(guide)\n",
    "        return guide_object_list"
   ]
  },
  {
   "cell_type": "code",
   "execution_count": 18,
   "metadata": {},
   "outputs": [
    {
     "data": {
      "text/plain": [
       "['https://b1.vpoxod.ru/coordinator/86/c2/162235_87x87.jpg']"
      ]
     },
     "execution_count": 18,
     "metadata": {},
     "output_type": "execute_result"
    }
   ],
   "source": [
    "parse_guides_temp(route_object)[0].img"
   ]
  },
  {
   "cell_type": "code",
   "execution_count": 48,
   "metadata": {
    "scrolled": false
   },
   "outputs": [],
   "source": [
    "coord = route_object.soup.find_all(attrs={'class': re.compile(r'^route_coordinator$')})[1]"
   ]
  },
  {
   "cell_type": "code",
   "execution_count": 95,
   "metadata": {},
   "outputs": [
    {
     "data": {
      "text/plain": [
       "'https://b1.vpoxod.ru/instructor/2d/9e/57166_87x87.jpg'"
      ]
     },
     "execution_count": 95,
     "metadata": {},
     "output_type": "execute_result"
    }
   ],
   "source": [
    "img = coord.find(attrs={'class':'route_coordinator_left'}).find('img').attrs['src']"
   ]
  },
  {
   "cell_type": "code",
   "execution_count": 99,
   "metadata": {},
   "outputs": [
    {
     "data": {
      "text/plain": [
       "'Александр'"
      ]
     },
     "execution_count": 99,
     "metadata": {},
     "output_type": "execute_result"
    }
   ],
   "source": [
    "coord.find(attrs={'class':'route_coordinator_name'}).text"
   ]
  },
  {
   "cell_type": "code",
   "execution_count": 100,
   "metadata": {},
   "outputs": [
    {
     "data": {
      "text/plain": [
       "'/instructor/aleksandr-kamyshov#content-top'"
      ]
     },
     "execution_count": 100,
     "metadata": {},
     "output_type": "execute_result"
    }
   ],
   "source": [
    "coord.find(attrs={'class':'route_coordinator_name'})['href']"
   ]
  },
  {
   "cell_type": "code",
   "execution_count": 85,
   "metadata": {},
   "outputs": [],
   "source": [
    "left = "
   ]
  },
  {
   "cell_type": "code",
   "execution_count": 87,
   "metadata": {},
   "outputs": [
    {
     "data": {
      "text/plain": [
       "[None, None]"
      ]
     },
     "execution_count": 87,
     "metadata": {},
     "output_type": "execute_result"
    }
   ],
   "source": [
    "left"
   ]
  },
  {
   "cell_type": "code",
   "execution_count": 82,
   "metadata": {},
   "outputs": [
    {
     "data": {
      "text/plain": [
       "[' ', 'Александр ']"
      ]
     },
     "execution_count": 82,
     "metadata": {},
     "output_type": "execute_result"
    }
   ],
   "source": [
    "[child.text for child in coord.children]"
   ]
  },
  {
   "cell_type": "code",
   "execution_count": 8,
   "metadata": {},
   "outputs": [],
   "source": [
    "import datetime\n",
    "\n",
    "temp = datetime.datetime.today()\n",
    "\n",
    "datetime.datetime.now()\n",
    "\n",
    "datetime.datetime.today()\n",
    "\n",
    "temp\n",
    "\n",
    "temp.strftime('%Y%m%d_%H%M%S')"
   ]
  },
  {
   "cell_type": "code",
   "execution_count": null,
   "metadata": {},
   "outputs": [],
   "source": []
  },
  {
   "cell_type": "code",
   "execution_count": 195,
   "metadata": {},
   "outputs": [],
   "source": [
    "def func(x):\n",
    "    return x*x"
   ]
  },
  {
   "cell_type": "code",
   "execution_count": 202,
   "metadata": {},
   "outputs": [
    {
     "data": {
      "text/plain": [
       "'<function func at 0x000001E50AA1A168>'"
      ]
     },
     "execution_count": 202,
     "metadata": {},
     "output_type": "execute_result"
    }
   ],
   "source": [
    "str(func)"
   ]
  },
  {
   "cell_type": "code",
   "execution_count": 232,
   "metadata": {},
   "outputs": [],
   "source": [
    "def catch_exceptions(func):\n",
    "    def inner_function(route_object):\n",
    "        try:\n",
    "            func(route_object)\n",
    "        except:\n",
    "            print(f\"{route_object.url} - problem in {str(func)}\")\n",
    "    return inner_function"
   ]
  },
  {
   "cell_type": "code",
   "execution_count": 135,
   "metadata": {},
   "outputs": [],
   "source": [
    "def catch_exceptions(func):\n",
    "    def inner_function(*args, **kwargs):\n",
    "        try:\n",
    "            return func(args[0])\n",
    "        except:\n",
    "            print(f\" {args[0].url} - problem in {str(func.__name__)}\")\n",
    "            return None\n",
    "    return inner_function\n",
    "\n",
    "\n",
    "class RouteKN(Route):\n",
    "    @catch_exceptions\n",
    "    def parse_name(self):\n",
    "        return self.soup.find(attrs={'class' : 'main_top full_width'}).find().text\n",
    "\n",
    "    @catch_exceptions\n",
    "    def parse_region(self):\n",
    "        return [col for col in self.main_route_info if 'Регион:' in col.text][0].text.replace('\\n', '')\n",
    "\n",
    "    @catch_exceptions\n",
    "    def parse_track(self):\n",
    "        return [col for col in self.main_route_info if 'Нитка:' in col.text][0].text.replace('\\n', '')\n",
    "\n",
    "    @catch_exceptions\n",
    "    def parse_distance(self):\n",
    "        return [col for col in self.main_route_info if 'Длина:' in col.text][0].text.replace('\\n', '')\n",
    "\n",
    "    @catch_exceptions\n",
    "    def parse_duration(self):\n",
    "        return [col for col in self.main_route_info if 'Длительность:' in col.text][0].text.replace('\\n', '')\n",
    "\n",
    "    @catch_exceptions\n",
    "    def parse_group_size(self):\n",
    "        return [col for col in self.main_route_info if 'Размер группы:' in col.text][0].text.replace('\\n','')\n",
    "\n",
    "    @catch_exceptions\n",
    "    def parse_children(self):\n",
    "        return [col for col in self.main_route_info if 'Участие с детьми:' in col.text][0].text.replace('\\n', '')\n",
    "\n",
    "    @catch_exceptions\n",
    "    def parse_level(self):\n",
    "        return [col for col in self.main_route_info if 'difficult' in str(col)][0].text.replace('\\n', '')\n",
    "\n",
    "    def parse_page(self, url, session, headers):\n",
    "        self.url = url\n",
    "        self.page = session.get(self.url, headers=headers)\n",
    "        self.soup = BeautifulSoup(self.page.text, 'html.parser')\n",
    "\n",
    "        self.name = self.parse_name()\n",
    "        self.main_route_info = self.soup.find(attrs={'class':'route_top_center'}).find_all('li')\n",
    "        \n",
    "        self.region = self.parse_region()\n",
    "        self.track = self.parse_track()\n",
    "        self.distance = self.parse_distance()\n",
    "        self.duration = self.parse_duration()\n",
    "        self.group_size = self.parse_group_size()\n",
    "\n",
    "        self.is_children = self.parse_children()\n",
    "        self.level = self.parse_level()\n",
    "\n",
    "        type_pattern_re = re.compile('.*>([\\w\\s]+)<.*')\n",
    "        self.type = [re.search(type_pattern_re,col['title']).group(1)\n",
    "                     for col in self.soup.find(attrs={'class':'route_icons'}).children]\n",
    "\n",
    "        short_desc = self.soup.find(attrs={'id':'route-short-description-content'})\n",
    "        self.short_description = '\\n'.join(map(lambda x: x.text, short_desc.find_all('p')))\n",
    "\n"
   ]
  },
  {
   "cell_type": "code",
   "execution_count": 133,
   "metadata": {},
   "outputs": [],
   "source": [
    "route_object = RouteKN()"
   ]
  },
  {
   "cell_type": "code",
   "execution_count": 134,
   "metadata": {},
   "outputs": [
    {
     "name": "stdout",
     "output_type": "stream",
     "text": [
      "https://www.vpoxod.ru/route/podmoskovje/velo_Tanki#content-top\n",
      " https://www.vpoxod.ru/route/podmoskovje/velo_Tanki#content-top - problem in parse_level\n"
     ]
    }
   ],
   "source": [
    "route_object.parse_page(route_page,session,headers)"
   ]
  },
  {
   "cell_type": "code",
   "execution_count": 128,
   "metadata": {},
   "outputs": [
    {
     "data": {
      "text/plain": [
       "{'url': 'https://www.vpoxod.ru/route/podmoskovje/velo_Tanki#content-top',\n",
       " 'name': 'Велопоход- Бронетанковый музей в Кубинке-Подмосковье',\n",
       " 'region': 'Регион:Подмосковье (все походы в этом регионе)',\n",
       " 'track': 'Нитка:Ж/Д Станция Звенигород – Звенигород –Саввино-Сторожевский монастырь–Обед на р. Сетунь. - Старый городок – Танковый Музей в Кубинке.',\n",
       " 'distance': 'Длина: 45 км ',\n",
       " 'level': None,\n",
       " 'type': ['Вело',\n",
       "  'Переходы с легкими рюкзаками',\n",
       "  'Выходного дня',\n",
       "  'Однодневные походы'],\n",
       " 'duration': 'Длительность: 1 день ',\n",
       " 'group_size': 'Размер группы: от 5 человек до 23 человек ',\n",
       " 'is_children': 'Участие с детьми: можно взять с собой детей от 12 лет ',\n",
       " 'short_description': 'Приглашаем совершить однодневную Экскурсионную велопоездку от ст. Звенигород до Кубинки с посещением танкового музея и Саввино-Сторожевского монастыря. Маршрут проходит по живописным местам Подмосковья.',\n",
       " 'full_description': None,\n",
       " 'price': None,\n",
       " 'images': None,\n",
       " 'guide': None}"
      ]
     },
     "execution_count": 128,
     "metadata": {},
     "output_type": "execute_result"
    }
   ],
   "source": [
    "route_object.to_json()"
   ]
  },
  {
   "cell_type": "code",
   "execution_count": 190,
   "metadata": {},
   "outputs": [
    {
     "data": {
      "text/plain": [
       "[<p><a href=\"/types/4-Vodnyiy/kyrgyzstan\">Все водные туры в Киргизии</a></p>,\n",
       " <p>Путешествие на байдарках по восточной части солнечного моря Кыргызстана – озеру Иссык-Куль и его окрестностям. Маршрут проходит в окружении впечатляющих пейзажей и заснеженных гор, называемых Швейцарией Средней Азии. Наша программа комбинированная, мы посмотрим и озеро и горы вокруг, доедем на микроавтобусах до самых красивых каньонов и ущелий, совершим легкие треккинги. </p>,\n",
       " <p>С 2020 года у нас обновленная программа! Мы посетим ущелья Джукку и Барскоон в горах Тянь-Шаня, куда доедем на автотранспорте от берега озера. Посетим камень Тамга, до которого доберёмся на лошадях.</p>]"
      ]
     },
     "execution_count": 190,
     "metadata": {},
     "output_type": "execute_result"
    }
   ],
   "source": [
    "(route_object.soup.find(attrs={'id':'route-short-description-content'})\n",
    ".find_all('p'))"
   ]
  },
  {
   "cell_type": "code",
   "execution_count": 170,
   "metadata": {},
   "outputs": [
    {
     "data": {
      "text/plain": [
       "[<p>Приглашаем совершить сплав на сапсёрфах по реке Волхов и увидеть знаменитую Староладожскую крепость с непривычного ракурса. На этой прогулке вы сможете ощутить дух древних викингов, пришедших на завоевание заморских земель.</p>]"
      ]
     },
     "execution_count": 170,
     "metadata": {},
     "output_type": "execute_result"
    }
   ],
   "source": [
    "(route_object.soup.find(attrs={'id':'route-short-description-content'})\n",
    ".find_all('p'))"
   ]
  },
  {
   "cell_type": "code",
   "execution_count": 142,
   "metadata": {},
   "outputs": [
    {
     "data": {
      "text/plain": [
       "{'url': 'https://www.vpoxod.ru/route/kyrgyzstan/Issyk-kul#content-top',\n",
       " 'name': 'Иссык-Куль: теплое море в ладонях Тянь-Шаня',\n",
       " 'region': 'Регион:Киргизия (все походы в этом регионе)',\n",
       " 'track': 'Нитка:Бишкек - село Орто-Орюктю - озеро Иссык-Куль - ущелье Джуку - ущелье Барскоон - каньон Сказка - село Бар-Булак - Бишкек',\n",
       " 'distance': 'Длина: 200 км + 20 км (На байдарках и пешком) ',\n",
       " 'level': 'Сложность:средняя сложность ',\n",
       " 'type': ['Водный', 'На байдарках'],\n",
       " 'duration': 'Длительность: 14 дней (без дороги на поезде или самолете) ',\n",
       " 'group_size': 'Размер группы: от 6 человек до 14 человек ',\n",
       " 'is_children': 'Участие с детьми: можно взять с собой детей от 14 лет ',\n",
       " 'short_description': 'Путешествие на байдарках по восточной части солнечного моря Кыргызстана – озеру Иссык-Куль и его окрестностям. Маршрут проходит в окружении впечатляющих пейзажей и заснеженных гор, называемых Швейцарией Средней Азии. Наша программа комбинированная, мы посмотрим и озеро и горы вокруг, доедем на микроавтобусах до самых красивых каньонов и ущелий, совершим легкие треккинги. С 2020 года у нас обновленная программа! Мы посетим ущелья Джукку и Барскоон в горах Тянь-Шаня, куда доедем на автотранспорте от берега озера. Посетим камень Тамга, до которого доберёмся на лошадях.',\n",
       " 'full_description': None,\n",
       " 'price': None,\n",
       " 'images': None,\n",
       " 'guide': None}"
      ]
     },
     "execution_count": 142,
     "metadata": {},
     "output_type": "execute_result"
    }
   ],
   "source": [
    "json.load() str(route_object.to_json())"
   ]
  },
  {
   "cell_type": "code",
   "execution_count": 149,
   "metadata": {},
   "outputs": [],
   "source": [
    "with open('temp.txt','a', encoding='utf-8') as f:\n",
    "    f.write(str(route_object.to_json()))"
   ]
  },
  {
   "cell_type": "code",
   "execution_count": 157,
   "metadata": {},
   "outputs": [
    {
     "name": "stdout",
     "output_type": "stream",
     "text": [
      "https://www.vpoxod.ru/route/altai/splav_po_reke_katun#content-top is_children failed!\n",
      "https://www.vpoxod.ru/route/altai/chuya_katun_splav#content-top is_children failed!\n",
      "https://www.vpoxod.ru/route/karelia/splav_keret_18#content-top is_children failed!\n",
      "https://www.vpoxod.ru/route/baikal/splav_jombolok_oka#content-top is_children failed!\n",
      "https://www.vpoxod.ru/route/baikal/jombolok_and_volcano#content-top is_children failed!\n",
      "https://www.vpoxod.ru/route/podmoskovje/velo_Tanki#content-top level failed!\n",
      "https://www.vpoxod.ru/route/elbrus/prielbrusje_s_voshozhdeniem#content-top is_children failed!\n",
      "https://www.vpoxod.ru/route/nw/sup-progulka-po-centru-pitera-marsovo-pole-letnij-sad-i-neva#content-top is_children failed!\n"
     ]
    }
   ],
   "source": [
    "for url in hike_list_urls[:100]:\n",
    "    route_object = RouteKN()\n",
    "    route_object.parse_url(url)\n",
    "    with open('temp.txt','a', encoding='utf-8') as f:\n",
    "        f.write(str(route_object.to_json())+'\\n')"
   ]
  },
  {
   "cell_type": "code",
   "execution_count": 123,
   "metadata": {},
   "outputs": [],
   "source": [
    "temp = route_object.soup.find(attrs={'id':'route-short-description-content'})"
   ]
  },
  {
   "cell_type": "code",
   "execution_count": 135,
   "metadata": {},
   "outputs": [
    {
     "data": {
      "text/plain": [
       "'Путешествие на байдарках по восточной части солнечного моря Кыргызстана – озеру Иссык-Куль и его окрестностям. Маршрут проходит в окружении впечатляющих пейзажей и заснеженных гор, называемых Швейцарией Средней Азии. Наша программа комбинированная, мы посмотрим и озеро и горы вокруг, доедем на микроавтобусах до самых красивых каньонов и ущелий, совершим легкие треккинги. С 2020 года у нас обновленная программа! Мы посетим ущелья Джукку и Барскоон в горах Тянь-Шаня, куда доедем на автотранспорте от берега озера. Посетим камень Тамга, до которого доберёмся на лошадях.'"
      ]
     },
     "execution_count": 135,
     "metadata": {},
     "output_type": "execute_result"
    }
   ],
   "source": [
    "''.join(map(lambda x: x.text,temp.find_all('p')[1:]))"
   ]
  },
  {
   "cell_type": "code",
   "execution_count": 94,
   "metadata": {},
   "outputs": [],
   "source": [
    "pattern_temp = re.compile('.*>([\\w\\s]+)<.*')"
   ]
  },
  {
   "cell_type": "code",
   "execution_count": 95,
   "metadata": {},
   "outputs": [
    {
     "data": {
      "text/plain": [
       "'Водный'"
      ]
     },
     "execution_count": 95,
     "metadata": {},
     "output_type": "execute_result"
    }
   ],
   "source": [
    "re.search(pattern_temp,'<a href=\"/types/4-Vodnyiy\" target=\"_blank\">Водный</a>').group(1)"
   ]
  },
  {
   "cell_type": "code",
   "execution_count": 99,
   "metadata": {},
   "outputs": [
    {
     "data": {
      "text/plain": [
       "'На байдарках'"
      ]
     },
     "execution_count": 99,
     "metadata": {},
     "output_type": "execute_result"
    }
   ],
   "source": [
    "re.search(pattern_temp,'<a href=\"/types/41-Na-baydarkah\" target=\"_blank\">На байдарках</a>').group(1)"
   ]
  },
  {
   "cell_type": "code",
   "execution_count": 90,
   "metadata": {},
   "outputs": [
    {
     "data": {
      "text/plain": [
       "['<a href=\"/types/4-Vodnyiy\" target=\"_blank\">Водный</a>',\n",
       " '<a href=\"/types/41-Na-baydarkah\" target=\"_blank\">На байдарках</a>']"
      ]
     },
     "execution_count": 90,
     "metadata": {},
     "output_type": "execute_result"
    }
   ],
   "source": [
    "[col['title'] for col in route_object.soup.find(attrs={'class':'route_icons'}).children]"
   ]
  },
  {
   "cell_type": "code",
   "execution_count": 33,
   "metadata": {},
   "outputs": [
    {
     "data": {
      "text/plain": [
       "'Сложность:\\n\\nсредняя сложность '"
      ]
     },
     "execution_count": 33,
     "metadata": {},
     "output_type": "execute_result"
    }
   ],
   "source": [
    "[col for col in route_object.main_route_info if 'difficult' in str(col)][0].text"
   ]
  }
 ],
 "metadata": {
  "kernelspec": {
   "display_name": "Python 3",
   "language": "python",
   "name": "python3"
  },
  "language_info": {
   "codemirror_mode": {
    "name": "ipython",
    "version": 3
   },
   "file_extension": ".py",
   "mimetype": "text/x-python",
   "name": "python",
   "nbconvert_exporter": "python",
   "pygments_lexer": "ipython3",
   "version": "3.7.6"
  }
 },
 "nbformat": 4,
 "nbformat_minor": 4
}
